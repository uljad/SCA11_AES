{
 "cells": [
  {
   "cell_type": "code",
   "execution_count": 158,
   "metadata": {},
   "outputs": [],
   "source": [
    "import numpy as np \n",
    "import os\n",
    "import re\n",
    "from tqdm import tnrange\n",
    "import matplotlib.pyplot as plt\n",
    "import time"
   ]
  },
  {
   "cell_type": "code",
   "execution_count": 159,
   "metadata": {},
   "outputs": [
    {
     "name": "stdout",
     "output_type": "stream",
     "text": [
      "<class 'list'>\n"
     ]
    }
   ],
   "source": [
    "power_raw=[]\n",
    "with open(\"power_5000_3.out\",'r') as f:\n",
    "    power_file=f.readlines()#loading power\n",
    "    print(type((f.readlines())))\n",
    "    power_raw.append(power_file)\n",
    "\n",
    "power=[]\n",
    "for k in power_raw[0]:\n",
    "    if not k.startswith(';') and not k.startswith('.') and k: \n",
    "        power.append(k.strip())\n",
    "\n"
   ]
  },
  {
   "cell_type": "code",
   "execution_count": 160,
   "metadata": {},
   "outputs": [
    {
     "name": "stdout",
     "output_type": "stream",
     "text": [
      "1  3.091e-04\n"
     ]
    }
   ],
   "source": [
    "power.pop(0)\n",
    "del power[0:5]\n",
    "print(power[7])\n"
   ]
  },
  {
   "cell_type": "code",
   "execution_count": 161,
   "metadata": {},
   "outputs": [],
   "source": [
    "power=[power[k] for k in range(len(power)) if k%7==0]  \n"
   ]
  },
  {
   "cell_type": "code",
   "execution_count": 162,
   "metadata": {},
   "outputs": [
    {
     "name": "stdout",
     "output_type": "stream",
     "text": [
      "15000\n",
      "500\n"
     ]
    }
   ],
   "source": [
    "power_traces=[float(k.split(\" \")[-1]) for k in power]\n",
    "print(len(power_traces))\n",
    "print(1500//3)"
   ]
  },
  {
   "cell_type": "code",
   "execution_count": 168,
   "metadata": {},
   "outputs": [
    {
     "name": "stdout",
     "output_type": "stream",
     "text": [
      "3\n"
     ]
    }
   ],
   "source": [
    "split=np.array_split(power_traces,len(power_traces)//5000)\n",
    "print(len(split))\n",
    "\n",
    "for k in range(len(split)):\n",
    "    name=\"power_\"+str(k+1)+\".txt\"\n",
    "    path=\"power/\"+name\n",
    "    np.savetxt(path,split[k],delimiter=\"\")\n"
   ]
  }
 ],
 "metadata": {
  "interpreter": {
   "hash": "2ff4f465163f8ec79ab7fa9191cf02b8a9362059c23a0aff91c492335b0c00be"
  },
  "kernelspec": {
   "display_name": "Python 3.9.5 64-bit",
   "language": "python",
   "name": "python3"
  },
  "language_info": {
   "codemirror_mode": {
    "name": "ipython",
    "version": 3
   },
   "file_extension": ".py",
   "mimetype": "text/x-python",
   "name": "python",
   "nbconvert_exporter": "python",
   "pygments_lexer": "ipython3",
   "version": "3.9.5"
  },
  "orig_nbformat": 4
 },
 "nbformat": 4,
 "nbformat_minor": 2
}
