{
 "cells": [
  {
   "cell_type": "code",
   "execution_count": 1,
   "metadata": {},
   "outputs": [],
   "source": [
    "import numpy as np \n",
    "import os\n",
    "import re\n",
    "from tqdm import tnrange\n",
    "import matplotlib.pyplot as plt"
   ]
  },
  {
   "cell_type": "code",
   "execution_count": 2,
   "metadata": {},
   "outputs": [],
   "source": [
    "sbox = [\n",
    "    # 0    1    2    3    4    5    6    7    8    9    a    b    c    d    e    f \n",
    "    0x63,0x7c,0x77,0x7b,0xf2,0x6b,0x6f,0xc5,0x30,0x01,0x67,0x2b,0xfe,0xd7,0xab,0x76, # 0\n",
    "    0xca,0x82,0xc9,0x7d,0xfa,0x59,0x47,0xf0,0xad,0xd4,0xa2,0xaf,0x9c,0xa4,0x72,0xc0, # 1\n",
    "    0xb7,0xfd,0x93,0x26,0x36,0x3f,0xf7,0xcc,0x34,0xa5,0xe5,0xf1,0x71,0xd8,0x31,0x15, # 2\n",
    "    0x04,0xc7,0x23,0xc3,0x18,0x96,0x05,0x9a,0x07,0x12,0x80,0xe2,0xeb,0x27,0xb2,0x75, # 3\n",
    "    0x09,0x83,0x2c,0x1a,0x1b,0x6e,0x5a,0xa0,0x52,0x3b,0xd6,0xb3,0x29,0xe3,0x2f,0x84, # 4\n",
    "    0x53,0xd1,0x00,0xed,0x20,0xfc,0xb1,0x5b,0x6a,0xcb,0xbe,0x39,0x4a,0x4c,0x58,0xcf, # 5\n",
    "    0xd0,0xef,0xaa,0xfb,0x43,0x4d,0x33,0x85,0x45,0xf9,0x02,0x7f,0x50,0x3c,0x9f,0xa8, # 6\n",
    "    0x51,0xa3,0x40,0x8f,0x92,0x9d,0x38,0xf5,0xbc,0xb6,0xda,0x21,0x10,0xff,0xf3,0xd2, # 7\n",
    "    0xcd,0x0c,0x13,0xec,0x5f,0x97,0x44,0x17,0xc4,0xa7,0x7e,0x3d,0x64,0x5d,0x19,0x73, # 8\n",
    "    0x60,0x81,0x4f,0xdc,0x22,0x2a,0x90,0x88,0x46,0xee,0xb8,0x14,0xde,0x5e,0x0b,0xdb, # 9\n",
    "    0xe0,0x32,0x3a,0x0a,0x49,0x06,0x24,0x5c,0xc2,0xd3,0xac,0x62,0x91,0x95,0xe4,0x79, # a\n",
    "    0xe7,0xc8,0x37,0x6d,0x8d,0xd5,0x4e,0xa9,0x6c,0x56,0xf4,0xea,0x65,0x7a,0xae,0x08, # b\n",
    "    0xba,0x78,0x25,0x2e,0x1c,0xa6,0xb4,0xc6,0xe8,0xdd,0x74,0x1f,0x4b,0xbd,0x8b,0x8a, # c\n",
    "    0x70,0x3e,0xb5,0x66,0x48,0x03,0xf6,0x0e,0x61,0x35,0x57,0xb9,0x86,0xc1,0x1d,0x9e, # d\n",
    "    0xe1,0xf8,0x98,0x11,0x69,0xd9,0x8e,0x94,0x9b,0x1e,0x87,0xe9,0xce,0x55,0x28,0xdf, # e\n",
    "    0x8c,0xa1,0x89,0x0d,0xbf,0xe6,0x42,0x68,0x41,0x99,0x2d,0x0f,0xb0,0x54,0xbb,0x16  # f\n",
    "]\n",
    "\n",
    "def calc_hamming_weight(n):\n",
    "    return bin(n).count(\"1\")\n",
    "\n",
    "sbox_2d = np.reshape(sbox, (16, 16))\n",
    "\n",
    "N=256 \n",
    "\n",
    "bit_vals=np.arange(0,256)\n",
    "HW=[calc_hamming_weight(k) for k in bit_vals]\n",
    "\n",
    "\n",
    "def int_2_hex_string(input):\n",
    "    return ((\"0x%0.2X\" % input).split('x')[-1])\n",
    "\n",
    "def sub_bytes(next):\n",
    "    s_next = int_2_hex_string(next)\n",
    "    return (sbox_2d[int(s_next[1],16)][int(s_next[0],16)])\n",
    "\n",
    "\n",
    "def add_round_key(key, next):\n",
    "    return (key ^ next)\n",
    "\n",
    "\n",
    "def forward_lookup(next, key):\n",
    "    return(add_round_key(sub_bytes(next), key))\n",
    "\n",
    "\n",
    "def generate_loopup_table():\n",
    "    lookup_table = np.zeros((N,N))\n",
    "    for ct_prev in range(N):\n",
    "        for key in range(N):\n",
    "            lookup_table[ct_prev,key] = forward_lookup(ct_prev, key)\n",
    "\n",
    "    return lookup_table.astype(int)\n",
    "\n",
    "\n",
    "def inverse_lookup(key_8, ct_8):\n",
    "    global lookup_table\n",
    "    column = lookup_table[:, key_8]\n",
    "\n",
    "    return np.where(column == ct_8)[0][0]\n",
    "\n",
    "\n",
    "def get_unarranged_prev_ct(key, ct):\n",
    "    prev_ct_arr_unarranged = []\n",
    "    for i in range(16):\n",
    "        key_8_int = int( (key[i*2: (i*2)+2]) , 16 )\n",
    "        ct_8_int  = int( (ct[i*2: (i*2)+2]) , 16 )\n",
    "        prev_ct_arr_unarranged.append( int_2_hex_string( inverse_lookup(key_8_int, ct_8_int) )[::-1] )\n",
    "\n",
    "    return prev_ct_arr_unarranged\n",
    "\n",
    "\n",
    "def get_mapping():\n",
    "    key     = 'd014f9a8c9ee2589e13f0cc8b6630ca6'\n",
    "    ct      = '3ad77bb40d7a3660a89ecaf32466ef97'\n",
    "    prev_ct = 'bb36c7eb88334d49a4e7112e74f182c4'\n",
    "\n",
    "    prev_ct_arr_unarranged  = get_unarranged_prev_ct(key, ct)\n",
    "    prev_ct_arr_arranged    = re.findall('..',prev_ct.upper())\n",
    "\n",
    "    mapping = []\n",
    "    \n",
    "    for i in range(16):\n",
    "        mapping.append(prev_ct_arr_arranged.index(prev_ct_arr_unarranged[i]))\n",
    "    return mapping\n",
    "\n",
    "\n",
    "def rearrange_prev_ct(unarranged):\n",
    "    mapping = get_mapping()\n",
    "    arranged = \"\"\n",
    "\n",
    "    for i in range(16):\n",
    "        arranged = arranged + unarranged[mapping.index(i)]\n",
    "\n",
    "    return arranged"
   ]
  },
  {
   "cell_type": "code",
   "execution_count": 10,
   "metadata": {},
   "outputs": [],
   "source": [
    "def getCipher(dir=\"Simulations/ct\"):\n",
    "\n",
    "    line =[]\n",
    "    cypher=[]\n",
    "    names=[]\n",
    "\n",
    "    directory = os.fsencode(dir)\n",
    "\n",
    "    for file in os.listdir(directory):\n",
    "\n",
    "        filename = os.fsdecode(file)\n",
    "\n",
    "        with open(os.path.join(dir,filename),'r') as f:\n",
    "            names.append(filename)\n",
    "            line=(f.readlines()) #loading cypher\n",
    "            cypher.append(line)\n",
    "        \n",
    "    cypher_floats=[]\n",
    "    for k in cypher:\n",
    "        container=[]\n",
    "        for j in k:\n",
    "            temp=j.strip()\n",
    "            temp2=\"0x\"+temp\n",
    "            temp3=int(temp2,16)\n",
    "            container.append(temp3)\n",
    "        cypher_floats.append(container)\n",
    "                \n",
    "    return names,cypher_floats\n",
    "\n",
    "def get_load_order(names_list):\n",
    "    order=[]\n",
    "    for k in names_list:\n",
    "        order.append(int((k.split(\".\")[0]).split(\"_\")[-1]))\n",
    "    return order\n",
    "\n",
    "def getPower(dir_=\"Simulations/power\"):\n",
    "    power_file=[]\n",
    "    power=[]\n",
    "    names=[]\n",
    "\n",
    "    directory = os.fsencode(dir_)\n",
    "\n",
    "    for file in os.listdir(directory):\n",
    "\n",
    "        filename = os.fsdecode(file)\n",
    "\n",
    "        if filename.endswith(\"txt\"):\n",
    "            names.append(filename)\n",
    "            with open(os.path.join(dir_,filename),'r') as f:\n",
    "                power_file=(f.readlines()) #loading power\n",
    "                power.append(power_file)\n",
    "    \n",
    "    power_floats=[]\n",
    "    for k in power:\n",
    "        container=[]\n",
    "        for j in k:\n",
    "            temp=j.strip()\n",
    "            temp2=float(temp)\n",
    "            container.append(temp2)\n",
    "        power_floats.append(container)\n",
    "\n",
    "    return names,power_floats\n",
    "\n",
    "def get_r10_keys(dir_=\"../Simulations/\"):\n",
    "    keys=[]\n",
    "    keys_final=[]\n",
    "\n",
    "    directory = os.fsencode(dir_)\n",
    "\n",
    "    for file in os.listdir(dir_):\n",
    "\n",
    "        filename = os.fsdecode(file)\n",
    "\n",
    "        if filename.endswith(\"round10_key.txt\"):\n",
    "            with open(os.path.join(dir_,filename),'r') as f:\n",
    "                key_line=(f.readlines()) #loading power\n",
    "                keys.append(key_line)\n",
    "    keys=keys[0]\n",
    "    \n",
    "    for k in keys: \n",
    "        temp0=k.split(\" \")[-1]\n",
    "        temp=temp0.strip()\n",
    "        temp2=\"0x\"+temp\n",
    "        temp3=int(temp2,16)\n",
    "        keys_final.append(temp3)\n",
    "        \n",
    "    return keys_final\n",
    "\n",
    "def int_2_hex_string(input):\n",
    "    return ((\"0x%0.2X\" % input).split('x')[-1])"
   ]
  },
  {
   "cell_type": "markdown",
   "metadata": {},
   "source": [
    "### Getting CT"
   ]
  },
  {
   "cell_type": "code",
   "execution_count": 11,
   "metadata": {},
   "outputs": [
    {
     "name": "stdout",
     "output_type": "stream",
     "text": [
      "[1, 10, 100, 11, 12, 13, 14, 15, 16, 17, 18, 19, 2, 20, 21, 22, 23, 24, 25, 26, 27, 28, 29, 3, 30, 31, 32, 33, 34, 35, 36, 37, 38, 39, 4, 40, 41, 42, 43, 44, 45, 46, 47, 48, 49, 5, 50, 51, 52, 53, 54, 55, 56, 57, 58, 59, 6, 60, 61, 62, 63, 64, 65, 66, 67, 68, 69, 7, 70, 71, 72, 73, 74, 75, 76, 77, 78, 79, 8, 80, 81, 82, 83, 84, 85, 86, 87, 88, 89, 9, 90, 91, 92, 93, 94, 95, 96, 97, 98, 99]\n"
     ]
    }
   ],
   "source": [
    "cipher_names,ciphers=getCipher(\"../Simulations/ct\")\n",
    "\n",
    "print(get_load_order(cipher_names))"
   ]
  },
  {
   "cell_type": "markdown",
   "metadata": {},
   "source": [
    "### Getting Power"
   ]
  },
  {
   "cell_type": "code",
   "execution_count": 12,
   "metadata": {},
   "outputs": [
    {
     "name": "stdout",
     "output_type": "stream",
     "text": [
      "[1, 10, 100, 11, 12, 13, 14, 15, 16, 17, 18, 19, 2, 20, 21, 22, 23, 24, 25, 26, 27, 28, 29, 3, 30, 31, 32, 33, 34, 35, 36, 37, 38, 39, 4, 40, 41, 42, 43, 44, 45, 46, 47, 48, 49, 5, 50, 51, 52, 53, 54, 55, 56, 57, 58, 59, 6, 60, 61, 62, 63, 64, 65, 66, 67, 68, 69, 7, 70, 71, 72, 73, 74, 75, 76, 77, 78, 79, 8, 80, 81, 82, 83, 84, 85, 86, 87, 88, 89, 9, 90, 91, 92, 93, 94, 95, 96, 97, 98, 99]\n",
      "0.0003211\n"
     ]
    }
   ],
   "source": [
    "power_names,power_traces=getPower(\"../Simulations/power\")\n",
    "# print(len(power_names),len(power_traces))\n",
    "print(get_load_order(power_names))\n",
    "print(power_traces[3][3516])\n"
   ]
  },
  {
   "cell_type": "code",
   "execution_count": 13,
   "metadata": {},
   "outputs": [
    {
     "name": "stderr",
     "output_type": "stream",
     "text": [
      "No handles with labels found to put in legend.\n"
     ]
    },
    {
     "data": {
      "text/plain": [
       "<matplotlib.legend.Legend at 0x23c0fd272e0>"
      ]
     },
     "execution_count": 13,
     "metadata": {},
     "output_type": "execute_result"
    },
    {
     "data": {
      "image/png": "[encoded data removed]",
      "text/plain": [
       "<Figure size 432x288 with 1 Axes>"
      ]
     },
     "metadata": {
      "needs_background": "light"
     },
     "output_type": "display_data"
    }
   ],
   "source": [
    "plt.plot(power_traces[53])\n",
    "plt.legend()"
   ]
  },
  {
   "cell_type": "markdown",
   "metadata": {},
   "source": [
    "### Getting the Keys\n",
    "\n"
   ]
  },
  {
   "cell_type": "code",
   "execution_count": 7,
   "metadata": {},
   "outputs": [
    {
     "name": "stdout",
     "output_type": "stream",
     "text": [
      "8FFCE27E4C09DB94FC23C089D313DA51\n"
     ]
    }
   ],
   "source": [
    "r10_keys = get_r10_keys()\n",
    "# for k in r10_keys:\n",
    "#     print(int_2_hex_string(k))\n",
    "print(int_2_hex_string(r10_keys[6]))"
   ]
  },
  {
   "cell_type": "markdown",
   "metadata": {},
   "source": [
    "### Reordering to match\n",
    "\n",
    "We know that the cipher and power are in matched order, the keys are not as they are list in the text file from 0 to 100. Therefore an ordering is in place. "
   ]
  },
  {
   "cell_type": "code",
   "execution_count": 8,
   "metadata": {},
   "outputs": [
    {
     "name": "stdout",
     "output_type": "stream",
     "text": [
      "[0, 9, 99, 10, 11, 12, 13, 14, 15, 16, 17, 18, 1, 19, 20, 21, 22, 23, 24, 25, 26, 27, 28, 2, 29, 30, 31, 32, 33, 34, 35, 36, 37, 38, 3, 39, 40, 41, 42, 43, 44, 45, 46, 47, 48, 4, 49, 50, 51, 52, 53, 54, 55, 56, 57, 58, 5, 59, 60, 61, 62, 63, 64, 65, 66, 67, 68, 6, 69, 70, 71, 72, 73, 74, 75, 76, 77, 78, 7, 79, 80, 81, 82, 83, 84, 85, 86, 87, 88, 8, 89, 90, 91, 92, 93, 94, 95, 96, 97, 98]\n",
      "3E6F2C4C943A4A246D9026EA20A2C34D\n"
     ]
    }
   ],
   "source": [
    "#get order in terms of indeces\n",
    "order=[k-1 for k in get_load_order(cipher_names)]\n",
    "print(order)\n",
    "\n",
    "#reordering the keys\n",
    "r10_keys=[r10_keys[i] for i in order]\n",
    "print(int_2_hex_string(r10_keys[1]))"
   ]
  },
  {
   "cell_type": "markdown",
   "metadata": {},
   "source": [
    "### Now that we have verified all the handling functions work and everything is ordered to match by index,\n",
    "\n",
    "We can move one to the correlation analysis. First, we find the previous cipher texts"
   ]
  },
  {
   "cell_type": "code",
   "execution_count": 9,
   "metadata": {},
   "outputs": [
    {
     "name": "stdout",
     "output_type": "stream",
     "text": [
      "key   b4ef5bcb3e92e21123e951cf6f8f188e\n",
      "Cipher  ab22b5d5c7a17523107e0fe1b746730a\n",
      "269929941614484182958079461526755182057\n"
     ]
    },
    {
     "ename": "KeyboardInterrupt",
     "evalue": "",
     "output_type": "error",
     "traceback": [
      "\u001b[1;31m---------------------------------------------------------------------------\u001b[0m",
      "\u001b[1;31mKeyboardInterrupt\u001b[0m                         Traceback (most recent call last)",
      "\u001b[1;32m~\\AppData\\Local\\Temp/ipykernel_18900/3534380798.py\u001b[0m in \u001b[0;36m<module>\u001b[1;34m\u001b[0m\n\u001b[0;32m     13\u001b[0m         \u001b[0mtemp_ct\u001b[0m\u001b[1;33m=\u001b[0m\u001b[0mhex\u001b[0m\u001b[1;33m(\u001b[0m\u001b[0mciphers\u001b[0m\u001b[1;33m[\u001b[0m\u001b[1;36m0\u001b[0m\u001b[1;33m]\u001b[0m\u001b[1;33m[\u001b[0m\u001b[1;36m0\u001b[0m\u001b[1;33m]\u001b[0m\u001b[1;33m)\u001b[0m\u001b[1;33m.\u001b[0m\u001b[0msplit\u001b[0m\u001b[1;33m(\u001b[0m\u001b[1;34m\"x\"\u001b[0m\u001b[1;33m)\u001b[0m\u001b[1;33m[\u001b[0m\u001b[1;33m-\u001b[0m\u001b[1;36m1\u001b[0m\u001b[1;33m]\u001b[0m\u001b[1;33m\u001b[0m\u001b[1;33m\u001b[0m\u001b[0m\n\u001b[0;32m     14\u001b[0m         \u001b[0munarranged\u001b[0m\u001b[1;33m=\u001b[0m\u001b[0mget_unarranged_prev_ct\u001b[0m\u001b[1;33m(\u001b[0m\u001b[0mtemp_key\u001b[0m\u001b[1;33m,\u001b[0m\u001b[0mtemp_ct\u001b[0m\u001b[1;33m)\u001b[0m\u001b[1;33m\u001b[0m\u001b[1;33m\u001b[0m\u001b[0m\n\u001b[1;32m---> 15\u001b[1;33m         \u001b[0mprev_ciphers\u001b[0m\u001b[1;33m[\u001b[0m\u001b[0mi\u001b[0m\u001b[1;33m]\u001b[0m\u001b[1;33m[\u001b[0m\u001b[0mj\u001b[0m\u001b[1;33m]\u001b[0m\u001b[1;33m=\u001b[0m\u001b[0mint\u001b[0m\u001b[1;33m(\u001b[0m\u001b[0mrearrange_prev_ct\u001b[0m\u001b[1;33m(\u001b[0m\u001b[0munarranged\u001b[0m\u001b[1;33m)\u001b[0m\u001b[1;33m,\u001b[0m\u001b[1;36m16\u001b[0m\u001b[1;33m)\u001b[0m\u001b[1;33m\u001b[0m\u001b[1;33m\u001b[0m\u001b[0m\n\u001b[0m",
      "\u001b[1;32m~\\AppData\\Local\\Temp/ipykernel_18900/2811118475.py\u001b[0m in \u001b[0;36mrearrange_prev_ct\u001b[1;34m(unarranged)\u001b[0m\n\u001b[0;32m     88\u001b[0m \u001b[1;33m\u001b[0m\u001b[0m\n\u001b[0;32m     89\u001b[0m \u001b[1;32mdef\u001b[0m \u001b[0mrearrange_prev_ct\u001b[0m\u001b[1;33m(\u001b[0m\u001b[0munarranged\u001b[0m\u001b[1;33m)\u001b[0m\u001b[1;33m:\u001b[0m\u001b[1;33m\u001b[0m\u001b[1;33m\u001b[0m\u001b[0m\n\u001b[1;32m---> 90\u001b[1;33m     \u001b[0mmapping\u001b[0m \u001b[1;33m=\u001b[0m \u001b[0mget_mapping\u001b[0m\u001b[1;33m(\u001b[0m\u001b[1;33m)\u001b[0m\u001b[1;33m\u001b[0m\u001b[1;33m\u001b[0m\u001b[0m\n\u001b[0m\u001b[0;32m     91\u001b[0m     \u001b[0marranged\u001b[0m \u001b[1;33m=\u001b[0m \u001b[1;34m\"\"\u001b[0m\u001b[1;33m\u001b[0m\u001b[1;33m\u001b[0m\u001b[0m\n\u001b[0;32m     92\u001b[0m \u001b[1;33m\u001b[0m\u001b[0m\n",
      "\u001b[1;32m~\\AppData\\Local\\Temp/ipykernel_18900/2811118475.py\u001b[0m in \u001b[0;36mget_mapping\u001b[1;34m()\u001b[0m\n\u001b[0;32m     77\u001b[0m     \u001b[0mprev_ct\u001b[0m \u001b[1;33m=\u001b[0m \u001b[1;34m'bb36c7eb88334d49a4e7112e74f182c4'\u001b[0m\u001b[1;33m\u001b[0m\u001b[1;33m\u001b[0m\u001b[0m\n\u001b[0;32m     78\u001b[0m \u001b[1;33m\u001b[0m\u001b[0m\n\u001b[1;32m---> 79\u001b[1;33m     \u001b[0mprev_ct_arr_unarranged\u001b[0m  \u001b[1;33m=\u001b[0m \u001b[0mget_unarranged_prev_ct\u001b[0m\u001b[1;33m(\u001b[0m\u001b[0mkey\u001b[0m\u001b[1;33m,\u001b[0m \u001b[0mct\u001b[0m\u001b[1;33m)\u001b[0m\u001b[1;33m\u001b[0m\u001b[1;33m\u001b[0m\u001b[0m\n\u001b[0m\u001b[0;32m     80\u001b[0m     \u001b[0mprev_ct_arr_arranged\u001b[0m    \u001b[1;33m=\u001b[0m \u001b[0mre\u001b[0m\u001b[1;33m.\u001b[0m\u001b[0mfindall\u001b[0m\u001b[1;33m(\u001b[0m\u001b[1;34m'..'\u001b[0m\u001b[1;33m,\u001b[0m\u001b[0mprev_ct\u001b[0m\u001b[1;33m.\u001b[0m\u001b[0mupper\u001b[0m\u001b[1;33m(\u001b[0m\u001b[1;33m)\u001b[0m\u001b[1;33m)\u001b[0m\u001b[1;33m\u001b[0m\u001b[1;33m\u001b[0m\u001b[0m\n\u001b[0;32m     81\u001b[0m \u001b[1;33m\u001b[0m\u001b[0m\n",
      "\u001b[1;32m~\\AppData\\Local\\Temp/ipykernel_18900/2811118475.py\u001b[0m in \u001b[0;36mget_unarranged_prev_ct\u001b[1;34m(key, ct)\u001b[0m\n\u001b[0;32m     67\u001b[0m         \u001b[0mkey_8_int\u001b[0m \u001b[1;33m=\u001b[0m \u001b[0mint\u001b[0m\u001b[1;33m(\u001b[0m \u001b[1;33m(\u001b[0m\u001b[0mkey\u001b[0m\u001b[1;33m[\u001b[0m\u001b[0mi\u001b[0m\u001b[1;33m*\u001b[0m\u001b[1;36m2\u001b[0m\u001b[1;33m:\u001b[0m \u001b[1;33m(\u001b[0m\u001b[0mi\u001b[0m\u001b[1;33m*\u001b[0m\u001b[1;36m2\u001b[0m\u001b[1;33m)\u001b[0m\u001b[1;33m+\u001b[0m\u001b[1;36m2\u001b[0m\u001b[1;33m]\u001b[0m\u001b[1;33m)\u001b[0m \u001b[1;33m,\u001b[0m \u001b[1;36m16\u001b[0m \u001b[1;33m)\u001b[0m\u001b[1;33m\u001b[0m\u001b[1;33m\u001b[0m\u001b[0m\n\u001b[0;32m     68\u001b[0m         \u001b[0mct_8_int\u001b[0m  \u001b[1;33m=\u001b[0m \u001b[0mint\u001b[0m\u001b[1;33m(\u001b[0m \u001b[1;33m(\u001b[0m\u001b[0mct\u001b[0m\u001b[1;33m[\u001b[0m\u001b[0mi\u001b[0m\u001b[1;33m*\u001b[0m\u001b[1;36m2\u001b[0m\u001b[1;33m:\u001b[0m \u001b[1;33m(\u001b[0m\u001b[0mi\u001b[0m\u001b[1;33m*\u001b[0m\u001b[1;36m2\u001b[0m\u001b[1;33m)\u001b[0m\u001b[1;33m+\u001b[0m\u001b[1;36m2\u001b[0m\u001b[1;33m]\u001b[0m\u001b[1;33m)\u001b[0m \u001b[1;33m,\u001b[0m \u001b[1;36m16\u001b[0m \u001b[1;33m)\u001b[0m\u001b[1;33m\u001b[0m\u001b[1;33m\u001b[0m\u001b[0m\n\u001b[1;32m---> 69\u001b[1;33m         \u001b[0mprev_ct_arr_unarranged\u001b[0m\u001b[1;33m.\u001b[0m\u001b[0mappend\u001b[0m\u001b[1;33m(\u001b[0m \u001b[0mint_2_hex_string\u001b[0m\u001b[1;33m(\u001b[0m \u001b[0minverse_lookup\u001b[0m\u001b[1;33m(\u001b[0m\u001b[0mkey_8_int\u001b[0m\u001b[1;33m,\u001b[0m \u001b[0mct_8_int\u001b[0m\u001b[1;33m)\u001b[0m \u001b[1;33m)\u001b[0m\u001b[1;33m[\u001b[0m\u001b[1;33m:\u001b[0m\u001b[1;33m:\u001b[0m\u001b[1;33m-\u001b[0m\u001b[1;36m1\u001b[0m\u001b[1;33m]\u001b[0m \u001b[1;33m)\u001b[0m\u001b[1;33m\u001b[0m\u001b[1;33m\u001b[0m\u001b[0m\n\u001b[0m\u001b[0;32m     70\u001b[0m \u001b[1;33m\u001b[0m\u001b[0m\n\u001b[0;32m     71\u001b[0m     \u001b[1;32mreturn\u001b[0m \u001b[0mprev_ct_arr_unarranged\u001b[0m\u001b[1;33m\u001b[0m\u001b[1;33m\u001b[0m\u001b[0m\n",
      "\u001b[1;32m~\\AppData\\Local\\Temp/ipykernel_18900/2811118475.py\u001b[0m in \u001b[0;36minverse_lookup\u001b[1;34m(key_8, ct_8)\u001b[0m\n\u001b[0;32m     59\u001b[0m     \u001b[0mcolumn\u001b[0m \u001b[1;33m=\u001b[0m \u001b[0mlookup_table\u001b[0m\u001b[1;33m[\u001b[0m\u001b[1;33m:\u001b[0m\u001b[1;33m,\u001b[0m \u001b[0mkey_8\u001b[0m\u001b[1;33m]\u001b[0m\u001b[1;33m\u001b[0m\u001b[1;33m\u001b[0m\u001b[0m\n\u001b[0;32m     60\u001b[0m \u001b[1;33m\u001b[0m\u001b[0m\n\u001b[1;32m---> 61\u001b[1;33m     \u001b[1;32mreturn\u001b[0m \u001b[0mnp\u001b[0m\u001b[1;33m.\u001b[0m\u001b[0mwhere\u001b[0m\u001b[1;33m(\u001b[0m\u001b[0mcolumn\u001b[0m \u001b[1;33m==\u001b[0m \u001b[0mct_8\u001b[0m\u001b[1;33m)\u001b[0m\u001b[1;33m[\u001b[0m\u001b[1;36m0\u001b[0m\u001b[1;33m]\u001b[0m\u001b[1;33m[\u001b[0m\u001b[1;36m0\u001b[0m\u001b[1;33m]\u001b[0m\u001b[1;33m\u001b[0m\u001b[1;33m\u001b[0m\u001b[0m\n\u001b[0m\u001b[0;32m     62\u001b[0m \u001b[1;33m\u001b[0m\u001b[0m\n\u001b[0;32m     63\u001b[0m \u001b[1;33m\u001b[0m\u001b[0m\n",
      "\u001b[1;32m<__array_function__ internals>\u001b[0m in \u001b[0;36mwhere\u001b[1;34m(*args, **kwargs)\u001b[0m\n",
      "\u001b[1;31mKeyboardInterrupt\u001b[0m: "
     ]
    }
   ],
   "source": [
    "lookup_table=generate_loopup_table()\n",
    "\n",
    "print(\"key  \", hex(r10_keys[0]).split(\"x\")[-1])\n",
    "print(\"Cipher \", hex(ciphers[0][0]).split(\"x\")[-1])\n",
    "\n",
    "prev_ciphers=np.empty(shape=(100,5000),dtype=object)\n",
    "\n",
    "print(int('CB129DA1698005C36666994F2D8585E9',16))\n",
    "\n",
    "for i in range(len(ciphers)):\n",
    "    for j in range(len(ciphers[i])):\n",
    "        temp_key=hex(r10_keys[0]).split(\"x\")[-1]\n",
    "        temp_ct=hex(ciphers[0][0]).split(\"x\")[-1]\n",
    "        unarranged=get_unarranged_prev_ct(temp_key,temp_ct)\n",
    "        prev_ciphers[i][j]=int(rearrange_prev_ct(unarranged),16)\n"
   ]
  },
  {
   "cell_type": "code",
   "execution_count": null,
   "metadata": {},
   "outputs": [
    {
     "name": "stdout",
     "output_type": "stream",
     "text": [
      "(100, 5000)\n",
      "269929941614484182958079461526755182057\n"
     ]
    }
   ],
   "source": [
    "print(prev_ciphers.shape)\n",
    "print(prev_ciphers[0,0])"
   ]
  },
  {
   "cell_type": "markdown",
   "metadata": {},
   "source": [
    "## CPA\n",
    "\n",
    "The actual algorithm is as follows for datasets $X$ and $Y$ of length $N$, with means of $\\bar{X}$ and $\\bar{Y}$, respectively:\n",
    "\n",
    "$$r = \\frac{cov(X, Y)}{\\sigma_X \\sigma_Y}$$\n",
    "\n",
    "$cov(X, Y)$ is the covariance of `X` and `Y` and can be calculated as follows:\n",
    "\n",
    "$$cov(X, Y) = \\sum_{n=1}^{N}[(Y_n - \\bar{Y})(X_n - \\bar{X})]$$\n",
    "\n",
    "$\\sigma_X$ and $\\sigma_Y$ are the standard deviation of the two datasets. This value can be calculated with the following equation:\n",
    "\n",
    "$$\\sigma_X = \\sqrt{\\sum_{n=1}^{N}(X_n - \\bar{X})^2}$$\n",
    "\n"
   ]
  },
  {
   "cell_type": "code",
   "execution_count": null,
   "metadata": {},
   "outputs": [],
   "source": [
    "def mean(X):\n",
    "    return np.mean(X,axis=0)\n",
    "\n",
    "def std_dev(X, X_bar):\n",
    "    return np.sqrt(np.sum((X-X_bar)**2,axis=0))\n",
    "\n",
    "def cov(X, X_bar, Y, Y_bar):\n",
    "    return np.sum((X-X_bar)*(Y-Y_bar),axis=0)"
   ]
  },
  {
   "cell_type": "markdown",
   "metadata": {},
   "source": [
    "Testing the HW weight functions"
   ]
  },
  {
   "cell_type": "code",
   "execution_count": null,
   "metadata": {},
   "outputs": [
    {
     "name": "stdout",
     "output_type": "stream",
     "text": [
      "3\n",
      "0b111000\n",
      "8\n",
      "100 5000\n"
     ]
    }
   ],
   "source": [
    "print(calc_hamming_weight(56))\n",
    "print(bin(56))\n",
    "print(HW[int(\"0xff\",16)])\n",
    "print(len(ciphers),len(ciphers[0]))"
   ]
  },
  {
   "cell_type": "markdown",
   "metadata": {},
   "source": [
    "### Generate Hamming Distances between the cipher and the previous cipher"
   ]
  },
  {
   "cell_type": "code",
   "execution_count": null,
   "metadata": {},
   "outputs": [
    {
     "name": "stdout",
     "output_type": "stream",
     "text": [
      "(100, 5000) (100, 5000)\n",
      "(100, 5000)\n",
      "148600106302996183445280201292192070955\n",
      "269929941614484182958079461526755182057\n",
      "127855938385303412553002856156527589091\n",
      "58\n",
      "(100, 5000)\n"
     ]
    }
   ],
   "source": [
    "ciphers_r10=np.array(ciphers) #converted to numpy array to make calculation easier\n",
    "prev_ciphers=prev_ciphers.astype(object) \n",
    "\n",
    "print(ciphers_r10.shape, prev_ciphers.shape)\n",
    "H_distances=np.empty((ciphers_r10.shape[0],ciphers_r10.shape[1]),dtype=object)\n",
    "print(H_distances.shape)\n",
    "print((ciphers_r10[3,0]))\n",
    "print((prev_ciphers[0,0]))\n",
    "print((prev_ciphers[0,0]^ciphers_r10[0][0]))\n",
    "print(calc_hamming_weight(prev_ciphers[0,0]^ciphers_r10[0][0]))\n",
    "\n",
    "\n",
    "for i in range(len(ciphers)):\n",
    "    for j in range(len(ciphers[i])):\n",
    "        distance=prev_ciphers[i,j]^ciphers_r10[i,j]\n",
    "        H_distances[i,j]=calc_hamming_weight(distance)\n",
    "\n",
    "print(H_distances.shape)\n",
    "\n",
    "        "
   ]
  },
  {
   "cell_type": "code",
   "execution_count": null,
   "metadata": {},
   "outputs": [
    {
     "name": "stderr",
     "output_type": "stream",
     "text": [
      "C:\\Users\\ub352\\AppData\\Local\\Temp/ipykernel_28972/1760216742.py:7: TqdmDeprecationWarning: Please use `tqdm.notebook.trange` instead of `tqdm.tnrange`\n",
      "  for bnum in tnrange(0, 16):\n"
     ]
    },
    {
     "data": {
      "application/vnd.jupyter.widget-view+json": {
       "model_id": "6113b5245f8d4c51bc609cd1615aab88",
       "version_major": 2,
       "version_minor": 0
      },
      "text/plain": [
       "  0%|          | 0/16 [00:00<?, ?it/s]"
      ]
     },
     "metadata": {},
     "output_type": "display_data"
    },
    {
     "name": "stdout",
     "output_type": "stream",
     "text": [
      "Best Key Guess: 00 00 00 00 00 00 00 00 00 00 00 00 00 00 00 00 16\n"
     ]
    }
   ],
   "source": [
    "t_bar = np.sum(power_traces, axis=0)/len(power_traces)   #mean\n",
    "o_t = np.sqrt(np.sum((power_traces - t_bar)**2, axis=0)) #st_dev\n",
    "\n",
    "bestguess = [0] * 16 #key byte guesses here\n",
    "corr_total=[]\n",
    "\n",
    "for bnum in tnrange(0, 16):\n",
    "    maxcpa = [0] * 256\n",
    "    for kguess in range(0, 256):\n",
    "        \n",
    "        #Repeating the key byte guessing process from the last loop\n",
    "        hws = np.array([[HW[textin[bnum]] for textin in H_distances]]).transpose()\n",
    "        hws_bar=mean(hws)\n",
    "        o_hws=std_dev(hws,hws_bar)\n",
    "        cpaoutput = (cov(hws,hws_bar,power_traces,t_bar))/(o_t*o_hws)\n",
    "        maxcpa[kguess] = cpaoutput\n",
    "        \n",
    "        #Get the highes correlation\n",
    "        correlations=[np.max(np.abs(k)) for k in maxcpa]\n",
    "        guess=np.argmax(correlations)\n",
    "        corr_total.append(correlations)\n",
    "\n",
    "        #store the bytes\n",
    "        bestguess[bnum]= guess\n",
    "\n",
    "        \n",
    "print(\"Best Key Guess: \", end=\"\")\n",
    "for b in bestguess: print(\"%02x \" % b, end=\"\")\n",
    "print(len(bestguess))"
   ]
  },
  {
   "cell_type": "markdown",
   "metadata": {},
   "source": [
    "### CORRELATIONS are too low!"
   ]
  },
  {
   "cell_type": "code",
   "execution_count": null,
   "metadata": {},
   "outputs": [
    {
     "name": "stdout",
     "output_type": "stream",
     "text": [
      "0.2340823166376791\n"
     ]
    },
    {
     "data": {
      "image/png": "[encoded data removed]",
      "text/plain": [
       "<Figure size 432x288 with 1 Axes>"
      ]
     },
     "metadata": {
      "needs_background": "light"
     },
     "output_type": "display_data"
    }
   ],
   "source": [
    "maxes=[]\n",
    "for k in corr_total:\n",
    "    maxes.append(max(k))\n",
    "plt.plot(maxes)\n",
    "print(np.max(maxes))"
   ]
  }
 ],
 "metadata": {
  "interpreter": {
   "hash": "2ff4f465163f8ec79ab7fa9191cf02b8a9362059c23a0aff91c492335b0c00be"
  },
  "kernelspec": {
   "display_name": "Python 3.9.5 64-bit",
   "language": "python",
   "name": "python3"
  },
  "language_info": {
   "codemirror_mode": {
    "name": "ipython",
    "version": 3
   },
   "file_extension": ".py",
   "mimetype": "text/x-python",
   "name": "python",
   "nbconvert_exporter": "python",
   "pygments_lexer": "ipython3",
   "version": "3.9.5"
  },
  "orig_nbformat": 4
 },
 "nbformat": 4,
 "nbformat_minor": 2
}
