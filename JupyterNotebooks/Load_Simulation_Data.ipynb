{
 "cells": [
  {
   "cell_type": "code",
   "execution_count": 346,
   "metadata": {},
   "outputs": [],
   "source": [
    "import numpy as np \n",
    "import os\n",
    "import re\n",
    "from tqdm import tnrange\n"
   ]
  },
  {
   "cell_type": "code",
   "execution_count": 347,
   "metadata": {},
   "outputs": [],
   "source": [
    "sbox = [\n",
    "    # 0    1    2    3    4    5    6    7    8    9    a    b    c    d    e    f \n",
    "    0x63,0x7c,0x77,0x7b,0xf2,0x6b,0x6f,0xc5,0x30,0x01,0x67,0x2b,0xfe,0xd7,0xab,0x76, # 0\n",
    "    0xca,0x82,0xc9,0x7d,0xfa,0x59,0x47,0xf0,0xad,0xd4,0xa2,0xaf,0x9c,0xa4,0x72,0xc0, # 1\n",
    "    0xb7,0xfd,0x93,0x26,0x36,0x3f,0xf7,0xcc,0x34,0xa5,0xe5,0xf1,0x71,0xd8,0x31,0x15, # 2\n",
    "    0x04,0xc7,0x23,0xc3,0x18,0x96,0x05,0x9a,0x07,0x12,0x80,0xe2,0xeb,0x27,0xb2,0x75, # 3\n",
    "    0x09,0x83,0x2c,0x1a,0x1b,0x6e,0x5a,0xa0,0x52,0x3b,0xd6,0xb3,0x29,0xe3,0x2f,0x84, # 4\n",
    "    0x53,0xd1,0x00,0xed,0x20,0xfc,0xb1,0x5b,0x6a,0xcb,0xbe,0x39,0x4a,0x4c,0x58,0xcf, # 5\n",
    "    0xd0,0xef,0xaa,0xfb,0x43,0x4d,0x33,0x85,0x45,0xf9,0x02,0x7f,0x50,0x3c,0x9f,0xa8, # 6\n",
    "    0x51,0xa3,0x40,0x8f,0x92,0x9d,0x38,0xf5,0xbc,0xb6,0xda,0x21,0x10,0xff,0xf3,0xd2, # 7\n",
    "    0xcd,0x0c,0x13,0xec,0x5f,0x97,0x44,0x17,0xc4,0xa7,0x7e,0x3d,0x64,0x5d,0x19,0x73, # 8\n",
    "    0x60,0x81,0x4f,0xdc,0x22,0x2a,0x90,0x88,0x46,0xee,0xb8,0x14,0xde,0x5e,0x0b,0xdb, # 9\n",
    "    0xe0,0x32,0x3a,0x0a,0x49,0x06,0x24,0x5c,0xc2,0xd3,0xac,0x62,0x91,0x95,0xe4,0x79, # a\n",
    "    0xe7,0xc8,0x37,0x6d,0x8d,0xd5,0x4e,0xa9,0x6c,0x56,0xf4,0xea,0x65,0x7a,0xae,0x08, # b\n",
    "    0xba,0x78,0x25,0x2e,0x1c,0xa6,0xb4,0xc6,0xe8,0xdd,0x74,0x1f,0x4b,0xbd,0x8b,0x8a, # c\n",
    "    0x70,0x3e,0xb5,0x66,0x48,0x03,0xf6,0x0e,0x61,0x35,0x57,0xb9,0x86,0xc1,0x1d,0x9e, # d\n",
    "    0xe1,0xf8,0x98,0x11,0x69,0xd9,0x8e,0x94,0x9b,0x1e,0x87,0xe9,0xce,0x55,0x28,0xdf, # e\n",
    "    0x8c,0xa1,0x89,0x0d,0xbf,0xe6,0x42,0x68,0x41,0x99,0x2d,0x0f,0xb0,0x54,0xbb,0x16  # f\n",
    "]\n",
    "\n",
    "sbox_2d = np.reshape(sbox, (16, 16))\n",
    "\n",
    "N=256 \n",
    "\n",
    "bit_vals=np.arange(0,256)\n",
    "HW=[calc_hamming_weight(k) for k in bit_vals]\n",
    "\n",
    "def calc_hamming_weight(n):\n",
    "    return bin(n).count(\"1\")\n",
    "\n",
    "def int_2_hex_string(input):\n",
    "    return ((\"0x%0.2X\" % input).split('x')[-1])\n",
    "\n",
    "def sub_bytes(next):\n",
    "    s_next = int_2_hex_string(next)\n",
    "    return (sbox_2d[int(s_next[1],16)][int(s_next[0],16)])\n",
    "\n",
    "\n",
    "def add_round_key(key, next):\n",
    "    return (key ^ next)\n",
    "\n",
    "\n",
    "def forward_lookup(next, key):\n",
    "    return(add_round_key(sub_bytes(next), key))\n",
    "\n",
    "\n",
    "def generate_loopup_table():\n",
    "    lookup_table = np.zeros((N,N))\n",
    "    for ct_prev in range(N):\n",
    "        for key in range(N):\n",
    "            lookup_table[ct_prev,key] = forward_lookup(ct_prev, key)\n",
    "\n",
    "    return lookup_table.astype(int)\n",
    "\n",
    "\n",
    "def inverse_lookup(key_8, ct_8):\n",
    "    global lookup_table\n",
    "    column = lookup_table[:, key_8]\n",
    "\n",
    "    return np.where(column == ct_8)[0][0]\n",
    "\n",
    "\n",
    "def get_unarranged_prev_ct(key, ct):\n",
    "    prev_ct_arr_unarranged = []\n",
    "    for i in range(16):\n",
    "        key_8_int = int( (key[i*2: (i*2)+2]) , 16 )\n",
    "        ct_8_int  = int( (ct[i*2: (i*2)+2]) , 16 )\n",
    "        prev_ct_arr_unarranged.append( int_2_hex_string( inverse_lookup(key_8_int, ct_8_int) )[::-1] )\n",
    "\n",
    "    return prev_ct_arr_unarranged\n",
    "\n",
    "\n",
    "def get_mapping():\n",
    "    key     = 'd014f9a8c9ee2589e13f0cc8b6630ca6'\n",
    "    ct      = '3ad77bb40d7a3660a89ecaf32466ef97'\n",
    "    prev_ct = 'bb36c7eb88334d49a4e7112e74f182c4'\n",
    "\n",
    "    prev_ct_arr_unarranged  = get_unarranged_prev_ct(key, ct)\n",
    "    prev_ct_arr_arranged    = re.findall('..',prev_ct.upper())\n",
    "\n",
    "    mapping = []\n",
    "    \n",
    "    for i in range(16):\n",
    "        mapping.append(prev_ct_arr_arranged.index(prev_ct_arr_unarranged[i]))\n",
    "    return mapping\n",
    "\n",
    "\n",
    "def rearrange_prev_ct(unarranged):\n",
    "    mapping = get_mapping()\n",
    "    arranged = \"\"\n",
    "\n",
    "    for i in range(16):\n",
    "        arranged = arranged + unarranged[mapping.index(i)]\n",
    "\n",
    "    return arranged"
   ]
  },
  {
   "cell_type": "code",
   "execution_count": 348,
   "metadata": {},
   "outputs": [],
   "source": [
    "def getCipher(dir=\"Simulations/ct\"):\n",
    "\n",
    "    line =[]\n",
    "    cypher=[]\n",
    "    names=[]\n",
    "\n",
    "    directory = os.fsencode(dir)\n",
    "\n",
    "    for file in os.listdir(directory):\n",
    "\n",
    "        filename = os.fsdecode(file)\n",
    "\n",
    "        with open(\"C:/Users/ub352/Desktop/Spring2021/Capstone/Attack_CPA/ct/\"+filename,'r') as f:\n",
    "            names.append(filename)\n",
    "            line=(f.readlines()) #loading cypher\n",
    "            cypher.append(line)\n",
    "        \n",
    "    cypher_floats=[]\n",
    "    for k in cypher:\n",
    "        container=[]\n",
    "        for j in k:\n",
    "            temp=j.strip()\n",
    "            temp2=\"0x\"+temp\n",
    "            temp3=int(temp2,16)\n",
    "            container.append(temp3)\n",
    "        cypher_floats.append(container)\n",
    "                \n",
    "    return names,cypher_floats\n",
    "\n",
    "def get_load_order(names_list):\n",
    "    order=[]\n",
    "    for k in names_list:\n",
    "        order.append(int((k.split(\".\")[0]).split(\"_\")[-1]))\n",
    "    return order\n",
    "\n",
    "def getPower(dir_=\"Simulations/power\"):\n",
    "    power_file=[]\n",
    "    power=[]\n",
    "    names=[]\n",
    "\n",
    "    directory = os.fsencode(dir_)\n",
    "\n",
    "    for file in os.listdir(directory):\n",
    "\n",
    "        filename = os.fsdecode(file)\n",
    "\n",
    "        if filename.endswith(\"txt\"):\n",
    "            names.append(filename)\n",
    "            with open(\"C:/Users/ub352/Desktop/Spring2021/Capstone/Attack_CPA/power/\"+filename,'r') as f:\n",
    "                power_file=(f.readlines()) #loading power\n",
    "                power.append(power_file)\n",
    "    \n",
    "    power_floats=[]\n",
    "    for k in power:\n",
    "        container=[]\n",
    "        for j in k:\n",
    "            temp=j.strip()\n",
    "            temp2=float(temp)\n",
    "            container.append(temp2)\n",
    "        power_floats.append(container)\n",
    "\n",
    "    return names,power_floats\n",
    "\n",
    "def get_r10_keys(dir_=\"../Simulations/\"):\n",
    "    keys=[]\n",
    "    keys_final=[]\n",
    "\n",
    "    directory = os.fsencode(dir_)\n",
    "\n",
    "    for file in os.listdir(dir_):\n",
    "\n",
    "        filename = os.fsdecode(file)\n",
    "\n",
    "        if filename.endswith(\"round10_key.txt\"):\n",
    "            with open(os.path.join(dir_,filename),'r') as f:\n",
    "                key_line=(f.readlines()) #loading power\n",
    "                keys.append(key_line)\n",
    "    keys=keys[0]\n",
    "    \n",
    "    for k in keys: \n",
    "        temp0=k.split(\" \")[-1]\n",
    "        temp=temp0.strip()\n",
    "        temp2=\"0x\"+temp\n",
    "        temp3=int(temp2,16)\n",
    "        keys_final.append(temp3)\n",
    "        \n",
    "    return keys_final\n",
    "\n",
    "def int_2_hex_string(input):\n",
    "    return ((\"0x%0.2X\" % input).split('x')[-1])"
   ]
  },
  {
   "cell_type": "markdown",
   "metadata": {},
   "source": [
    "### Getting CT"
   ]
  },
  {
   "cell_type": "code",
   "execution_count": 349,
   "metadata": {},
   "outputs": [
    {
     "name": "stdout",
     "output_type": "stream",
     "text": [
      "[1, 10, 100, 11, 12, 13, 14, 15, 16, 17, 18, 19, 2, 20, 21, 22, 23, 24, 25, 26, 27, 28, 29, 3, 30, 31, 32, 33, 34, 35, 36, 37, 38, 39, 4, 40, 41, 42, 43, 44, 45, 46, 47, 48, 49, 5, 50, 51, 52, 53, 54, 55, 56, 57, 58, 59, 6, 60, 61, 62, 63, 64, 65, 66, 67, 68, 69, 7, 70, 71, 72, 73, 74, 75, 76, 77, 78, 79, 8, 80, 81, 82, 83, 84, 85, 86, 87, 88, 89, 9, 90, 91, 92, 93, 94, 95, 96, 97, 98, 99]\n"
     ]
    }
   ],
   "source": [
    "cipher_names,ciphers=getCipher(\"../Simulations/ct\")\n",
    "\n",
    "print(get_load_order(cipher_names))"
   ]
  },
  {
   "cell_type": "markdown",
   "metadata": {},
   "source": [
    "### Getting Power"
   ]
  },
  {
   "cell_type": "code",
   "execution_count": 350,
   "metadata": {},
   "outputs": [
    {
     "name": "stdout",
     "output_type": "stream",
     "text": [
      "[1, 10, 100, 11, 12, 13, 14, 15, 16, 17, 18, 19, 2, 20, 21, 22, 23, 24, 25, 26, 27, 28, 29, 3, 30, 31, 32, 33, 34, 35, 36, 37, 38, 39, 4, 40, 41, 42, 43, 44, 45, 46, 47, 48, 49, 5, 50, 51, 52, 53, 54, 55, 56, 57, 58, 59, 6, 60, 61, 62, 63, 64, 65, 66, 67, 68, 69, 7, 70, 71, 72, 73, 74, 75, 76, 77, 78, 79, 8, 80, 81, 82, 83, 84, 85, 86, 87, 88, 89, 9, 90, 91, 92, 93, 94, 95, 96, 97, 98, 99]\n",
      "0.0003211\n"
     ]
    }
   ],
   "source": [
    "power_names,power_traces=getPower(\"../Simulations/power\")\n",
    "# print(len(power_names),len(power_traces))\n",
    "print(get_load_order(power_names))\n",
    "print(power_traces[3][3516])\n"
   ]
  },
  {
   "cell_type": "markdown",
   "metadata": {},
   "source": [
    "### Getting the Keys\n",
    "\n"
   ]
  },
  {
   "cell_type": "code",
   "execution_count": 351,
   "metadata": {},
   "outputs": [
    {
     "name": "stdout",
     "output_type": "stream",
     "text": [
      "B4EF5BCB3E92E21123E951CF6F8F188E\n",
      "9190E464343521562FA42EAFA53E706A\n",
      "7A36251B49E5E602513FEB5A7AEB6FE3\n",
      "FC4C6C73AFF504F4BD21A50B9C7D6A3C\n",
      "2DE2CA890FB4D88FF45F3446BC9AEE8D\n",
      "5ACD451D6BEBAB97D1EC6FEC2848ABAB\n",
      "8FFCE27E4C09DB94FC23C089D313DA51\n",
      "82006CD2B497B16CE216D363553DFA0E\n",
      "6A92BCFFE5DE23EDD35C03885B649E16\n",
      "3E6F2C4C943A4A246D9026EA20A2C34D\n",
      "9ECF457020E28FAF6F3083DC58AD4B15\n",
      "A05969CD3BD0F1532C8D154E6F5CA01\n",
      "C06202008B3D5D4739B99E9C697392C9\n",
      "6BD7912FE16138E7C740403FDAB23C19\n",
      "A56BE1D6715C67D2A484AB40BDDFA629\n",
      "DC2D74D26CCEDE635B332D5CCBDE3DF9\n",
      "E1A223CB1FF1F870C9D5D7319B41F837\n",
      "B23591CB2B6F7146EC1E00FBA2822B6D\n",
      "FBED3DA67DAF29DE07E697936D6F9485\n",
      "A1311BEE8B1ADADDAC07798CEF6A8245\n",
      "ED3303E40439E11EB83BA170E453B7D2\n",
      "90299DEA5DFA186A8E01B39D71E9E94C\n",
      "CEB9294DA1682ACF5C1E894670D4D344\n",
      "650C1D767A0659D6FF89CF5FB1E94E39\n",
      "169DFA2886B8E064500487B1986B0492\n",
      "37E1A54F8E1728C4A0FC359DE75FEFA4\n",
      "820056CD72438559E880652AB93303CC\n",
      "9CAB203B64F1781B07BECBA3F5200300\n",
      "DF8CE43D7135BBD953F105E2D3704E08\n",
      "339ABD458CAD70B6A0C7CE55CFCC64CB\n",
      "E3A3A55EB1494AAB4CC14785FAFB54FF\n",
      "EDA2EAB7D1C2169F55EABD05D720A837\n",
      "82B2C6A49047FAF9F689CCD6D23B4A95\n",
      "3D1A2937C05B6E3E57340196FDC82F23\n",
      "9AABCD6873B9AB6624A931053F3DF559\n",
      "246EE958FDBDB78A355A557C1207B35\n",
      "4F03AE9A4C80B767B4AEB6E55DA36BBC\n",
      "3228226D6CBD437396FB6B16537E7FF3\n",
      "BEEC2224ADA85DC976A547464D7C91A\n",
      "753069B2B488CB79B5AAA838514A6877\n",
      "7878F977746B49898016AA48942CDF4D\n",
      "686A2AC183CC23B4D1A2E7893D05B18\n",
      "B5DB58B0FCC65D834461C0FE3043FCC6\n",
      "490F389DEFC8D12C6A2C83DC884A2790\n",
      "642129AD012D7C95CE0CF7534EAC20E9\n",
      "7CAF47C650291ED47FE31C6C35060B3\n",
      "44632A3B229521900C9F610C75AA0CCA\n",
      "6F03AE39B72D1DCB5338D98F2F3ED422\n",
      "453EDC3157360B75C365818661DAE4DA\n",
      "62F997A7A1ED1D189B772926D54022A6\n",
      "9E44B171F2890BC191E6AEA22F5E6729\n",
      "BEEC91CE7FD10CCAB64E501D225C0833\n",
      "908BCEB436116B60F009215D1F27D83C\n",
      "F889035456EC89181AD95F0FDA243EE4\n",
      "9BD12B5D28088C2D80625192FC5BF94\n",
      "ABBDF861B74AAD7D0B686D32EFAD0674\n",
      "BB0CDAEFE7CABDEF35D961C0A0F3488F\n",
      "EB90B85780C4ABFCA54ED8FB466A9D7F\n",
      "FF833FDFBB3E61F191D2F4D9F474508E\n",
      "114CFD803DD4FBBB37CD47A81A118A20\n",
      "B17FD67D6B0336B5FB450F7D7CE20962\n",
      "9B2AE7490B0929FFDC5603517F1E745C\n",
      "5029380F47CBEEF9FB0D326566E9F92E\n",
      "11335B47FE08BAF49E43521CBBFF8284\n",
      "CA2CEF90BF8E3A75066E1126B42C1751\n",
      "54FD65091AC630DFF6E320147909AB1D\n",
      "284B71CD75E0A19480AA1B8193D0A1F7\n",
      "163EEA31D19FEAEF68812CA15F7DDD6F\n",
      "9A0AE4F006E2DEFF79D1B035F8A0B67D\n",
      "47F85702A54F2FC3FB3E6CF12DF8DD3D\n",
      "69BFBAC9FB33441E1E8E3D93ADA80BD0\n",
      "A383F7C439CB1A7A558A91E14B9A10C1\n",
      "7955B0E0D28317B734D2FF9BBBB1442F\n",
      "B9F473E2A874B6D202C7D164A7D2FF1B\n",
      "CC0D9461FBB1E9B098F81204E996A119\n",
      "E8296AF11C8D5B8D484FC4B2A5E59886\n",
      "675893E52062915725007982C58EA4DA\n",
      "A227B2BA4FEEBC96A95D96B8CEEAFDEC\n",
      "B10FEAC7626024522CB45257E55DEDD3\n",
      "9D0E5DEB0022841D1E4FDB79CE186E46\n",
      "8938E4241BFD00E3FCE3D97D1E8693D5\n",
      "FD282902137AF58BAF83E847EEEDE6EC\n",
      "9F18D71946CD8689E461C27CB759351F\n",
      "F8FDC3B4F7DDADE31A9AE2EC4D563CEA\n",
      "EEACD607E9001CBC66ED20BEE1BAB2CA\n",
      "E27AC0855722DE1179C9B351736EA0F\n",
      "E6C84FA56354B5AC2CDCF60A5BC40726\n",
      "9BC6318FE18C4A8B133422FFB4FA71CD\n",
      "256A8CB5C8CCC7EDF09A00564F4A60A4\n",
      "EC08C3E347D20DB0E5FA31C8E07B2370\n",
      "49D9E771EE6E727F03CBC44744A1BF8E\n",
      "26C2899263DB8E954952C62964709FD3\n",
      "215DD5CC4E656D4E03E81E2249418215\n",
      "EFFF97B5980D7390E9FD898720394B7A\n",
      "FE897C95C935A6CB0E625072036DB2C\n",
      "334207D9309756FCA7B3A76DB65045F1\n",
      "D02EF5ECE6DA8364395584469020ABBE\n",
      "F541DBA235E3C83C93B2E864FABC34B1\n",
      "9164B54837BCFB45B981EB38D98FD6D7\n",
      "6A42FAA7A386759045207E0943D8FFE8\n"
     ]
    }
   ],
   "source": [
    "r10_keys = get_r10_keys()\n",
    "for k in r10_keys:\n",
    "    print(int_2_hex_string(k))"
   ]
  },
  {
   "cell_type": "markdown",
   "metadata": {},
   "source": [
    "### Reordering to match\n",
    "\n",
    "We know that the cipher and power are in matched order, the keys are not as they are list in the text file from 0 to 100. Therefore an ordering is in place. "
   ]
  },
  {
   "cell_type": "code",
   "execution_count": 352,
   "metadata": {},
   "outputs": [
    {
     "name": "stdout",
     "output_type": "stream",
     "text": [
      "[0, 9, 99, 10, 11, 12, 13, 14, 15, 16, 17, 18, 1, 19, 20, 21, 22, 23, 24, 25, 26, 27, 28, 2, 29, 30, 31, 32, 33, 34, 35, 36, 37, 38, 3, 39, 40, 41, 42, 43, 44, 45, 46, 47, 48, 4, 49, 50, 51, 52, 53, 54, 55, 56, 57, 58, 5, 59, 60, 61, 62, 63, 64, 65, 66, 67, 68, 6, 69, 70, 71, 72, 73, 74, 75, 76, 77, 78, 7, 79, 80, 81, 82, 83, 84, 85, 86, 87, 88, 8, 89, 90, 91, 92, 93, 94, 95, 96, 97, 98]\n",
      "3E6F2C4C943A4A246D9026EA20A2C34D\n"
     ]
    }
   ],
   "source": [
    "#get order in terms of indeces\n",
    "order=[k-1 for k in get_load_order(cipher_names)]\n",
    "print(order)\n",
    "\n",
    "#reordering the keys\n",
    "r10_keys=[r10_keys[i] for i in order]\n",
    "print(int_2_hex_string(r10_keys[1]))"
   ]
  },
  {
   "cell_type": "markdown",
   "metadata": {},
   "source": [
    "### Now that we have verified all the handling functions work and everything is ordered to match by index,\n",
    "\n",
    "We can move one to the correlation analysis"
   ]
  },
  {
   "cell_type": "code",
   "execution_count": 353,
   "metadata": {},
   "outputs": [],
   "source": [
    "lookup_table=generate_loopup_table()\n",
    "\n",
    "print(\"key  \", hex(r10_keys[0]).split(\"x\")[-1])\n",
    "print(\"Cipher \", hex(ciphers[0][0]).split(\"x\")[-1])\n",
    "\n",
    "prev_ciphers=np.empty(shape=(100,5000))\n",
    "\n",
    "print(int('CB129DA1698005C36666994F2D8585E9',16))\n",
    "\n",
    "for i in range(len(ciphers)):\n",
    "    for j in range(len(ciphers[i])):\n",
    "        temp_key=hex(r10_keys[0]).split(\"x\")[-1]\n",
    "        temp_ct=hex(ciphers[0][0]).split(\"x\")[-1]\n",
    "        unarranged=get_unarranged_prev_ct(temp_key,temp_ct)\n",
    "        prev_ciphers[i][j]=int(rearrange_prev_ct(unarranged),16)\n"
   ]
  },
  {
   "cell_type": "code",
   "execution_count": 354,
   "metadata": {},
   "outputs": [
    {
     "name": "stdout",
     "output_type": "stream",
     "text": [
      "(100, 5000)\n"
     ]
    }
   ],
   "source": [
    "print(prev_ciphers.shape)"
   ]
  },
  {
   "cell_type": "markdown",
   "metadata": {},
   "source": [
    "## CPA\n",
    "\n",
    "The actual algorithm is as follows for datasets $X$ and $Y$ of length $N$, with means of $\\bar{X}$ and $\\bar{Y}$, respectively:\n",
    "\n",
    "$$r = \\frac{cov(X, Y)}{\\sigma_X \\sigma_Y}$$\n",
    "\n",
    "$cov(X, Y)$ is the covariance of `X` and `Y` and can be calculated as follows:\n",
    "\n",
    "$$cov(X, Y) = \\sum_{n=1}^{N}[(Y_n - \\bar{Y})(X_n - \\bar{X})]$$\n",
    "\n",
    "$\\sigma_X$ and $\\sigma_Y$ are the standard deviation of the two datasets. This value can be calculated with the following equation:\n",
    "\n",
    "$$\\sigma_X = \\sqrt{\\sum_{n=1}^{N}(X_n - \\bar{X})^2}$$\n",
    "\n"
   ]
  },
  {
   "cell_type": "code",
   "execution_count": 355,
   "metadata": {},
   "outputs": [],
   "source": [
    "def mean(X):\n",
    "    return np.mean(X,axis=0)\n",
    "\n",
    "def std_dev(X, X_bar):\n",
    "    return np.sqrt(np.sum((X-X_bar)**2,axis=0))\n",
    "\n",
    "def cov(X, X_bar, Y, Y_bar):\n",
    "    return np.sum((X-X_bar)*(Y-Y_bar),axis=0)"
   ]
  },
  {
   "cell_type": "markdown",
   "metadata": {},
   "source": [
    "Testing the HW weight functions"
   ]
  },
  {
   "cell_type": "code",
   "execution_count": 356,
   "metadata": {},
   "outputs": [
    {
     "name": "stdout",
     "output_type": "stream",
     "text": [
      "3\n",
      "0b111000\n",
      "8\n",
      "100 5000\n"
     ]
    }
   ],
   "source": [
    "print(calc_hamming_weight(56))\n",
    "print(bin(56))\n",
    "print(HW[int(\"0xff\",16)])\n",
    "print(len(ciphers),len(ciphers[0]))"
   ]
  },
  {
   "cell_type": "markdown",
   "metadata": {},
   "source": [
    "### Generate Hamming Distances between the cipher and the previous cipher"
   ]
  },
  {
   "cell_type": "code",
   "execution_count": 359,
   "metadata": {},
   "outputs": [
    {
     "name": "stdout",
     "output_type": "stream",
     "text": [
      "(100, 5000) (100, 5000)\n",
      "(100, 5000)\n",
      "148600106302996183445280201292192070955\n",
      "269929941614484182958079461526755182057\n",
      "127855938385303412553002856156527589091\n",
      "58\n",
      "(100, 5000)\n"
     ]
    }
   ],
   "source": [
    "ciphers_r10=np.array(ciphers) #converted to numpy array to make calculation easier\n",
    "prev_ciphers=prev_ciphers.astype(object) \n",
    "\n",
    "print(ciphers_r10.shape, prev_ciphers.shape)\n",
    "H_distances=np.empty((ciphers_r10.shape[0],ciphers_r10.shape[1]),dtype=np.uint8)\n",
    "print(H_distances.shape)\n",
    "print((ciphers_r10[3,0]))\n",
    "print((prev_ciphers[0,0]))\n",
    "print((prev_ciphers[0,0]^ciphers_r10[0][0]))\n",
    "print(calc_hamming_weight(prev_ciphers[0,0]^ciphers_r10[0][0]))\n",
    "\n",
    "\n",
    "for i in range(len(ciphers)):\n",
    "    for j in range(len(ciphers[i])):\n",
    "        distance=prev_ciphers[i,j]^ciphers_r10[i,j]\n",
    "        H_distances[i,j]=calc_hamming_weight(distance)\n",
    "\n",
    "print(H_distances.shape)\n",
    "\n",
    "        "
   ]
  },
  {
   "cell_type": "code",
   "execution_count": 358,
   "metadata": {},
   "outputs": [
    {
     "name": "stderr",
     "output_type": "stream",
     "text": [
      "C:\\Users\\ub352\\AppData\\Local\\Temp/ipykernel_2884/304904533.py:6: TqdmDeprecationWarning: Please use `tqdm.notebook.trange` instead of `tqdm.tnrange`\n",
      "  for bnum in tnrange(0, 16):\n"
     ]
    },
    {
     "data": {
      "application/vnd.jupyter.widget-view+json": {
       "model_id": "ba8645ae0eba4982b902ecd75ccb1714",
       "version_major": 2,
       "version_minor": 0
      },
      "text/plain": [
       "  0%|          | 0/16 [00:00<?, ?it/s]"
      ]
     },
     "metadata": {},
     "output_type": "display_data"
    },
    {
     "name": "stdout",
     "output_type": "stream",
     "text": [
      "Best Key Guess: 00 00 00 00 00 00 00 00 00 00 00 00 00 00 00 00 16\n"
     ]
    }
   ],
   "source": [
    "t_bar = np.sum(power_traces, axis=0)/len(power_traces)   #mean\n",
    "o_t = np.sqrt(np.sum((power_traces - t_bar)**2, axis=0)) #st_dev\n",
    "\n",
    "bestguess = [0] * 16 #key byte guesses here\n",
    "\n",
    "for bnum in tnrange(0, 16):\n",
    "    maxcpa = [0] * 256\n",
    "    for kguess in range(0, 256):\n",
    "        \n",
    "        #Repeating the key byte guessing process from the last loop\n",
    "        hws = np.array([[HW[textin[bnum]] for textin in H_distances]]).transpose()\n",
    "        hws_bar=mean(hws)\n",
    "        o_hws=std_dev(hws,hws_bar)\n",
    "        cpaoutput = (cov(hws,hws_bar,H_distances,t_bar))/(o_t*o_hws)\n",
    "        maxcpa[kguess] = cpaoutput\n",
    "        \n",
    "        #Get the highes correlation\n",
    "        correlations=[np.max(np.abs(k)) for k in maxcpa]\n",
    "        guess=np.argmax(correlations)\n",
    "        # guess_corr=np.max(correlations)\n",
    "\n",
    "        #store the bytes\n",
    "        bestguess[bnum]= guess\n",
    "\n",
    "        \n",
    "print(\"Best Key Guess: \", end=\"\")\n",
    "for b in bestguess: print(\"%02x \" % b, end=\"\")\n",
    "print(len(bestguess))"
   ]
  }
 ],
 "metadata": {
  "interpreter": {
   "hash": "2ff4f465163f8ec79ab7fa9191cf02b8a9362059c23a0aff91c492335b0c00be"
  },
  "kernelspec": {
   "display_name": "Python 3.9.5 64-bit",
   "language": "python",
   "name": "python3"
  },
  "language_info": {
   "codemirror_mode": {
    "name": "ipython",
    "version": 3
   },
   "file_extension": ".py",
   "mimetype": "text/x-python",
   "name": "python",
   "nbconvert_exporter": "python",
   "pygments_lexer": "ipython3",
   "version": "3.9.5"
  },
  "orig_nbformat": 4
 },
 "nbformat": 4,
 "nbformat_minor": 2
}
