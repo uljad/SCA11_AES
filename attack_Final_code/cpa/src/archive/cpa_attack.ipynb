{
 "cells": [
  {
   "cell_type": "code",
   "execution_count": 5,
   "metadata": {},
   "outputs": [
    {
     "name": "stdout",
     "output_type": "stream",
     "text": [
      "Found 1 CUDA devices\n",
      "id 0    b'NVIDIA GeForce MX130'                 [SUPPORTED (DEPRECATED)]\n",
      "                      Compute Capability: 5.0\n",
      "                           PCI Device ID: 0\n",
      "                              PCI Bus ID: 1\n",
      "                                    UUID: GPU-8d855ea3-c829-4ee9-ffc2-f69c7a034726\n",
      "                                Watchdog: Enabled\n",
      "                            Compute Mode: WDDM\n",
      "             FP32/FP64 Performance Ratio: 32\n",
      "Summary:\n",
      "\t1/1 devices are supported\n"
     ]
    },
    {
     "data": {
      "text/plain": [
       "True"
      ]
     },
     "execution_count": 5,
     "metadata": {},
     "output_type": "execute_result"
    }
   ],
   "source": [
    "import os\n",
    "import re\n",
    "import sys\n",
    "import math\n",
    "from tqdm import trange\n",
    "import matplotlib.pyplot as plt\n",
    "from numba import jit, njit, cuda, vectorize\n",
    "import numpy as np\n",
    "np.set_printoptions(threshold=sys.maxsize)\n",
    "\n",
    "cuda.detect()"
   ]
  },
  {
   "cell_type": "code",
   "execution_count": 3,
   "metadata": {},
   "outputs": [],
   "source": [
    "# CONSTANTS\n",
    "\n",
    "NO_KEYS = 256"
   ]
  },
  {
   "cell_type": "code",
   "execution_count": 5,
   "metadata": {},
   "outputs": [],
   "source": [
    "sbox = [\n",
    "    # 0    1    2    3    4    5    6    7    8    9    a    b    c    d    e    f \n",
    "    0x63,0x7c,0x77,0x7b,0xf2,0x6b,0x6f,0xc5,0x30,0x01,0x67,0x2b,0xfe,0xd7,0xab,0x76, # 0\n",
    "    0xca,0x82,0xc9,0x7d,0xfa,0x59,0x47,0xf0,0xad,0xd4,0xa2,0xaf,0x9c,0xa4,0x72,0xc0, # 1\n",
    "    0xb7,0xfd,0x93,0x26,0x36,0x3f,0xf7,0xcc,0x34,0xa5,0xe5,0xf1,0x71,0xd8,0x31,0x15, # 2\n",
    "    0x04,0xc7,0x23,0xc3,0x18,0x96,0x05,0x9a,0x07,0x12,0x80,0xe2,0xeb,0x27,0xb2,0x75, # 3\n",
    "    0x09,0x83,0x2c,0x1a,0x1b,0x6e,0x5a,0xa0,0x52,0x3b,0xd6,0xb3,0x29,0xe3,0x2f,0x84, # 4\n",
    "    0x53,0xd1,0x00,0xed,0x20,0xfc,0xb1,0x5b,0x6a,0xcb,0xbe,0x39,0x4a,0x4c,0x58,0xcf, # 5\n",
    "    0xd0,0xef,0xaa,0xfb,0x43,0x4d,0x33,0x85,0x45,0xf9,0x02,0x7f,0x50,0x3c,0x9f,0xa8, # 6\n",
    "    0x51,0xa3,0x40,0x8f,0x92,0x9d,0x38,0xf5,0xbc,0xb6,0xda,0x21,0x10,0xff,0xf3,0xd2, # 7\n",
    "    0xcd,0x0c,0x13,0xec,0x5f,0x97,0x44,0x17,0xc4,0xa7,0x7e,0x3d,0x64,0x5d,0x19,0x73, # 8\n",
    "    0x60,0x81,0x4f,0xdc,0x22,0x2a,0x90,0x88,0x46,0xee,0xb8,0x14,0xde,0x5e,0x0b,0xdb, # 9\n",
    "    0xe0,0x32,0x3a,0x0a,0x49,0x06,0x24,0x5c,0xc2,0xd3,0xac,0x62,0x91,0x95,0xe4,0x79, # a\n",
    "    0xe7,0xc8,0x37,0x6d,0x8d,0xd5,0x4e,0xa9,0x6c,0x56,0xf4,0xea,0x65,0x7a,0xae,0x08, # b\n",
    "    0xba,0x78,0x25,0x2e,0x1c,0xa6,0xb4,0xc6,0xe8,0xdd,0x74,0x1f,0x4b,0xbd,0x8b,0x8a, # c\n",
    "    0x70,0x3e,0xb5,0x66,0x48,0x03,0xf6,0x0e,0x61,0x35,0x57,0xb9,0x86,0xc1,0x1d,0x9e, # d\n",
    "    0xe1,0xf8,0x98,0x11,0x69,0xd9,0x8e,0x94,0x9b,0x1e,0x87,0xe9,0xce,0x55,0x28,0xdf, # e\n",
    "    0x8c,0xa1,0x89,0x0d,0xbf,0xe6,0x42,0x68,0x41,0x99,0x2d,0x0f,0xb0,0x54,0xbb,0x16  # f\n",
    "]\n",
    "\n",
    "inv_sbox = [\n",
    "   0x52, 0x09, 0x6A, 0xD5, 0x30, 0x36, 0xA5, 0x38, 0xBF, 0x40, 0xA3, 0x9E, 0x81, 0xF3, 0xD7, 0xFB,\n",
    "   0x7C, 0xE3, 0x39, 0x82, 0x9B, 0x2F, 0xFF, 0x87, 0x34, 0x8E, 0x43, 0x44, 0xC4, 0xDE, 0xE9, 0xCB,\n",
    "   0x54, 0x7B, 0x94, 0x32, 0xA6, 0xC2, 0x23, 0x3D, 0xEE, 0x4C, 0x95, 0x0B, 0x42, 0xFA, 0xC3, 0x4E,\n",
    "   0x08, 0x2E, 0xA1, 0x66, 0x28, 0xD9, 0x24, 0xB2, 0x76, 0x5B, 0xA2, 0x49, 0x6D, 0x8B, 0xD1, 0x25,\n",
    "   0x72, 0xF8, 0xF6, 0x64, 0x86, 0x68, 0x98, 0x16, 0xD4, 0xA4, 0x5C, 0xCC, 0x5D, 0x65, 0xB6, 0x92,\n",
    "   0x6C, 0x70, 0x48, 0x50, 0xFD, 0xED, 0xB9, 0xDA, 0x5E, 0x15, 0x46, 0x57, 0xA7, 0x8D, 0x9D, 0x84,\n",
    "   0x90, 0xD8, 0xAB, 0x00, 0x8C, 0xBC, 0xD3, 0x0A, 0xF7, 0xE4, 0x58, 0x05, 0xB8, 0xB3, 0x45, 0x06,\n",
    "   0xD0, 0x2C, 0x1E, 0x8F, 0xCA, 0x3F, 0x0F, 0x02, 0xC1, 0xAF, 0xBD, 0x03, 0x01, 0x13, 0x8A, 0x6B,\n",
    "   0x3A, 0x91, 0x11, 0x41, 0x4F, 0x67, 0xDC, 0xEA, 0x97, 0xF2, 0xCF, 0xCE, 0xF0, 0xB4, 0xE6, 0x73,\n",
    "   0x96, 0xAC, 0x74, 0x22, 0xE7, 0xAD, 0x35, 0x85, 0xE2, 0xF9, 0x37, 0xE8, 0x1C, 0x75, 0xDF, 0x6E,\n",
    "   0x47, 0xF1, 0x1A, 0x71, 0x1D, 0x29, 0xC5, 0x89, 0x6F, 0xB7, 0x62, 0x0E, 0xAA, 0x18, 0xBE, 0x1B,\n",
    "   0xFC, 0x56, 0x3E, 0x4B, 0xC6, 0xD2, 0x79, 0x20, 0x9A, 0xDB, 0xC0, 0xFE, 0x78, 0xCD, 0x5A, 0xF4,\n",
    "   0x1F, 0xDD, 0xA8, 0x33, 0x88, 0x07, 0xC7, 0x31, 0xB1, 0x12, 0x10, 0x59, 0x27, 0x80, 0xEC, 0x5F,\n",
    "   0x60, 0x51, 0x7F, 0xA9, 0x19, 0xB5, 0x4A, 0x0D, 0x2D, 0xE5, 0x7A, 0x9F, 0x93, 0xC9, 0x9C, 0xEF,\n",
    "   0xA0, 0xE0, 0x3B, 0x4D, 0xAE, 0x2A, 0xF5, 0xB0, 0xC8, 0xEB, 0xBB, 0x3C, 0x83, 0x53, 0x99, 0x61,\n",
    "   0x17, 0x2B, 0x04, 0x7E, 0xBA, 0x77, 0xD6, 0x26, 0xE1, 0x69, 0x14, 0x63, 0x55, 0x21, 0x0C, 0x7D\n",
    "]\n",
    "\n",
    "\n",
    "sBox = np.transpose(np.reshape(sbox, (16, 16))).flatten()\n",
    "\n",
    "\n",
    "inv_sBox = np.reshape(inv_sbox, (16, 16)).flatten()\n",
    "\n",
    "\n",
    "HW = np.array([ bin(k).count(\"1\") for k in np.arange(0,256) ]).astype(int).flatten()\n",
    "\n",
    "\n",
    "def int_2_hex_string(input):\n",
    "    return ((\"0x%0.2X\" % input).split('x')[-1])\n",
    "\n",
    "\n",
    "def sub_bytes(next):\n",
    "    return sBox[next] \n",
    "\n",
    "\n",
    "def inv_sub_bytes(next: int) -> int:\n",
    "    return inv_sBox[next] \n",
    "    \n",
    "\n",
    "def add_round_key(key, next):\n",
    "    return (key ^ next)\n",
    "\n",
    "\n",
    "def forward_lookup(next, key):\n",
    "    return(add_round_key(sub_bytes(next), key)) \n",
    "\n",
    "\n",
    "def generate_lookup_table():\n",
    "    lookup_table = np.zeros((NO_KEYS,NO_KEYS))\n",
    "    for ct_prev in range(NO_KEYS):\n",
    "        for key in range(NO_KEYS):\n",
    "            lookup_table[ct_prev,key] = forward_lookup(ct_prev, key)\n",
    "    return lookup_table.astype(int)\n",
    "\n",
    "\n",
    "def inverse_lookup(key_8: int, ct_8: int) -> int:\n",
    "    global FORWARD_LOOKUP_TABLE\n",
    "    column = FORWARD_LOOKUP_TABLE[:, key_8]\n",
    "    return np.where(column == ct_8)[0][0] \n",
    "\n",
    "\n",
    "def generate_inverse_lookup_table():\n",
    "    inverse_lookup_table = np.zeros((NO_KEYS,NO_KEYS))\n",
    "    for key in range(NO_KEYS):\n",
    "        for ct_8 in range(NO_KEYS):\n",
    "            inverse_lookup_table[key, ct_8] = inv_sub_bytes(add_round_key(key, ct_8)) \n",
    "    \n",
    "    return inverse_lookup_table.astype(int) \n",
    "\n",
    "\n",
    "# def generate_inverse_lookup_table():\n",
    "#     inverse_lookup_table = np.zeros((NO_KEYS,NO_KEYS))\n",
    "#     for key in range(NO_KEYS):\n",
    "#         for ct_8 in range(NO_KEYS):\n",
    "#             inverse_lookup_table[key, ct_8] = inverse_lookup(key, ct_8)\n",
    "    \n",
    "#     return inverse_lookup_table.astype(int) \n",
    "\n",
    "\n",
    "# Generate Forward Lookup Table\n",
    "FORWARD_LOOKUP_TABLE = generate_lookup_table()\n",
    "\n",
    "# Generate Inverse Lookup Table\n",
    "INVERSE_LOOKUP_TABLE = generate_inverse_lookup_table()\n",
    "\n",
    "# Inverse Mapping\n",
    "CT_2_PREVCT_MAPPING = np.array([0, 5, 10, 15, 4, 9, 14, 3, 8, 13, 2, 7, 12, 1, 6, 11]).astype(int).flatten()\n"
   ]
  },
  {
   "cell_type": "code",
   "execution_count": 6,
   "metadata": {},
   "outputs": [],
   "source": [
    "# Data Access Functions\n",
    "\n",
    "def get_power_from_raw_simulation(filename, trace_indx, no_points):\n",
    "    file          = open(filename, \"r\")\n",
    "    file_line_arr = file.readlines()\n",
    "    \n",
    "    pwr_trc = []\n",
    "    begin   = trace_indx * no_points\n",
    "    end     = begin + no_points\n",
    "\n",
    "    for i in range(begin, end):\n",
    "        indx = (i*7) + 23\n",
    "        pwr_trc.append( [float(file_line_arr[indx].strip('1'))] )\n",
    "\n",
    "    file.close()\n",
    "\n",
    "    return np.array(pwr_trc)\n",
    "\n",
    "\n",
    "def get_power_from_real_data(filename):\n",
    "    file          = open(filename, \"r\")\n",
    "    file_line_arr = file.readlines()\n",
    "    \n",
    "    pwr_trc = []\n",
    "    \n",
    "    for line in file_line_arr:\n",
    "        pwr_trc.append( [ float(k) for k in line.split()] ) \n",
    "\n",
    "    file.close()\n",
    "\n",
    "    return np.array(pwr_trc) \n",
    "\n",
    "\n",
    "def get_ct(filename):\n",
    "    file          = open(filename, \"r\")\n",
    "    file_line_arr = file.readlines()\n",
    "\n",
    "    ct_arr = []\n",
    "\n",
    "    for ct in file_line_arr:\n",
    "        temp  =  \"\".join(ct.split())\n",
    "        temp2 = [temp[i:i+2] for i in range(0, len(temp), 2)]\n",
    "        temp  = [int(k,16) for k in temp2]\n",
    "        \n",
    "        ct_arr.append(temp)\n",
    "\n",
    "    \n",
    "    file.close\n",
    "\n",
    "    return np.array(ct_arr)"
   ]
  },
  {
   "cell_type": "code",
   "execution_count": 55,
   "metadata": {},
   "outputs": [],
   "source": [
    "# Statistics\n",
    "\n",
    "def mean(X):\n",
    "    return np.mean(X,axis=0)\n",
    "\n",
    "\n",
    "def sdev(X, X_bar):\n",
    "    return np.sqrt(np.sum((X-X_bar)**2,axis=0))\n",
    "\n",
    "@cuda.jit\n",
    "def sdev_cuda(X, X_bar, result):\n",
    "    i, j = cuda.grid(2)\n",
    "    \n",
    "    if i < X.shape[0] and j < X.shape[1]:\n",
    "        temp = 0.\n",
    "        for k in range(X.shape[0]):\n",
    "            temp += (X[k,j] - X_bar[j])**2\n",
    "        \n",
    "        result[j] = math.sqrt(temp)\n",
    "\n",
    "\n",
    "def cov(X, X_bar, Y, Y_bar):\n",
    "    return np.sum((X-X_bar)*(Y-Y_bar),axis=0)"
   ]
  },
  {
   "cell_type": "code",
   "execution_count": 107,
   "metadata": {},
   "outputs": [
    {
     "name": "stdout",
     "output_type": "stream",
     "text": [
      "[171  34 181 213 199 161 117  35  16 126  15 225 183  70 115  10]\n"
     ]
    }
   ],
   "source": [
    "# Get Data\n",
    "\n",
    "NO_PWR_TRC = 3000\n",
    "PWR_TRC_INDX = 0\n",
    "\n",
    "power_trace = get_power_from_raw_simulation(\"../data/simulation/power_5000_3.out\", PWR_TRC_INDX, NO_PWR_TRC)\n",
    "cipher_texts = get_ct(\"../data/simulation/55nm_5000_1.txt\") \n",
    "\n",
    "# power_trace = get_power_from_real_data(\"../data/real/sumesh_data/data_x3000.txt\") \n",
    "# cipher_texts = get_ct(\"../data/real/sumesh_data/ct_x3000.txt\")\n",
    "\n",
    "print(cipher_texts[0])"
   ]
  },
  {
   "cell_type": "code",
   "execution_count": 128,
   "metadata": {},
   "outputs": [
    {
     "data": {
      "text/plain": [
       "True"
      ]
     },
     "execution_count": 128,
     "metadata": {},
     "output_type": "execute_result"
    },
    {
     "data": {
      "text/plain": [
       "True"
      ]
     },
     "execution_count": 128,
     "metadata": {},
     "output_type": "execute_result"
    }
   ],
   "source": [
    "# %%timeit\n",
    "# Get Statistics (Mean and Standard Deviation) of Power Traces\n",
    "\n",
    "NO_POINT_PER_TRACE = power_trace[0].size\n",
    "\n",
    "mean_power_trace_1 = mean(power_trace)\n",
    "sdev_power_trace_1 = sdev(power_trace, mean_power_trace_1) \n",
    "\n",
    "#print(\"Points per Trace: \", NO_POINT_PER_TRACE) \n",
    "\n",
    "mean_power_trace = []\n",
    "sdev_power_trace = [] \n",
    "\n",
    "for col in range(NO_POINT_PER_TRACE):\n",
    "    power_trace_col  = power_trace[:,col]\n",
    "    power_trace_bar  = mean(power_trace_col)\n",
    "    power_trace_sdev = sdev(power_trace_col, power_trace_bar) \n",
    "\n",
    "    mean_power_trace.append(power_trace_bar)\n",
    "    sdev_power_trace.append(power_trace_sdev)\n",
    "\n",
    "mean_power_trace = np.reshape(mean_power_trace, (NO_POINT_PER_TRACE))\n",
    "sdev_power_trace = np.reshape(sdev_power_trace, (NO_POINT_PER_TRACE)) \n",
    "\n",
    "\n",
    "np.array_equal(mean_power_trace, mean_power_trace_1)\n",
    "np.array_equal(sdev_power_trace, sdev_power_trace_1) \n",
    "\n",
    "# print(NO_POINT_PER_TRACE)\n",
    "# print(mean_power_trace.shape)"
   ]
  },
  {
   "cell_type": "code",
   "execution_count": 75,
   "metadata": {},
   "outputs": [
    {
     "name": "stderr",
     "output_type": "stream",
     "text": [
      "C:\\Users\\yoj20\\anaconda3\\lib\\site-packages\\numba\\cuda\\cudadrv\\devicearray.py:790: NumbaPerformanceWarning: \u001b[1mHost array used in CUDA kernel will incur copy overhead to/from device.\u001b[0m\n",
      "  warn(NumbaPerformanceWarning(msg))\n"
     ]
    },
    {
     "name": "stdout",
     "output_type": "stream",
     "text": [
      "5.07 ms ± 170 µs per loop (mean ± std. dev. of 7 runs, 1 loop each)\n"
     ]
    }
   ],
   "source": [
    "# %%timeit\n",
    "# power_trace_col  = np.ascontiguousarray(power_trace[:,1])\n",
    "# power_trace_bar  = mean(power_trace_col)\n",
    "# power_trace_col  = cuda.to_device(np.ascontiguousarray(power_trace[:,1]).flatten())\n",
    "# power_trace_bar  = mean(power_trace_col)\n",
    "# print(power_trace_col) \n",
    "# print(power_trace_bar) \n",
    "# print(np.ascontiguousarray(power_trace[:,1]).flatten().shape[0])\n",
    "# print(power_trace[0,0])\n",
    "\n",
    "# power_trace_bar  = mean(power_trace).flatten() \n",
    "# sdev_power_trace_cuda = np.zeros((power_trace.shape[1],1)).astype(float).flatten() \n",
    "\n",
    "# threadsperblock = (16,16) \n",
    "# blockspergrid_x = int(np.ceil(power_trace.shape[0]/threadsperblock[0]))\n",
    "# blockspergrid_y = int(np.ceil(power_trace.shape[1]/threadsperblock[1]))\n",
    "# blockspergrid   = (blockspergrid_x,blockspergrid_y)\n",
    "\n",
    "# sdev_cuda[blockspergrid, threadsperblock](power_trace, power_trace_bar, sdev_power_trace_cuda) \n",
    "\n"
   ]
  },
  {
   "cell_type": "code",
   "execution_count": 123,
   "metadata": {},
   "outputs": [
    {
     "name": "stderr",
     "output_type": "stream",
     "text": [
      "  0%|          | 0/16 [00:00<?, ?it/s]\n"
     ]
    },
    {
     "name": "stdout",
     "output_type": "stream",
     "text": [
      "C shape (1, 1)\n",
      "corr_coeffs shape:  (1, 1)\n",
      "[[0.02295841]]\n"
     ]
    },
    {
     "name": "stderr",
     "output_type": "stream",
     "text": [
      "100%|██████████| 256/256 [00:03<00:00, 66.26it/s]\n",
      "  6%|▋         | 1/16 [00:03<00:58,  3.87s/it]"
     ]
    },
    {
     "name": "stdout",
     "output_type": "stream",
     "text": [
      "C shape (1, 1)\n",
      "corr_coeffs shape:  (1, 1)\n",
      "[[0.01455678]]\n"
     ]
    },
    {
     "name": "stderr",
     "output_type": "stream",
     "text": [
      "100%|██████████| 256/256 [00:03<00:00, 64.85it/s]\n",
      " 12%|█▎        | 2/16 [00:07<00:54,  3.92s/it]"
     ]
    },
    {
     "name": "stdout",
     "output_type": "stream",
     "text": [
      "C shape (1, 1)\n",
      "corr_coeffs shape:  (1, 1)\n",
      "[[-0.01925717]]\n"
     ]
    },
    {
     "name": "stderr",
     "output_type": "stream",
     "text": [
      "100%|██████████| 256/256 [00:03<00:00, 65.40it/s]\n",
      " 19%|█▉        | 3/16 [00:11<00:50,  3.92s/it]\n"
     ]
    },
    {
     "name": "stdout",
     "output_type": "stream",
     "text": [
      "C shape (1, 1)\n",
      "corr_coeffs shape:  (1, 1)\n",
      "[[0.02224072]]\n"
     ]
    },
    {
     "name": "stderr",
     "output_type": "stream",
     "text": [
      "100%|██████████| 256/256 [00:04<00:00, 63.51it/s]\n",
      " 25%|██▌       | 4/16 [00:15<00:47,  3.96s/it]\n"
     ]
    },
    {
     "name": "stdout",
     "output_type": "stream",
     "text": [
      "C shape (1, 1)\n",
      "corr_coeffs shape:  (1, 1)\n",
      "[[0.03856799]]\n"
     ]
    },
    {
     "name": "stderr",
     "output_type": "stream",
     "text": [
      "100%|██████████| 256/256 [00:03<00:00, 66.72it/s]\n",
      " 31%|███▏      | 5/16 [00:19<00:43,  3.92s/it]"
     ]
    },
    {
     "name": "stdout",
     "output_type": "stream",
     "text": [
      "C shape (1, 1)\n",
      "corr_coeffs shape:  (1, 1)\n",
      "[[-0.02945857]]\n"
     ]
    },
    {
     "name": "stderr",
     "output_type": "stream",
     "text": [
      "100%|██████████| 256/256 [00:03<00:00, 64.61it/s]\n",
      " 38%|███▊      | 6/16 [00:23<00:39,  3.94s/it]"
     ]
    },
    {
     "name": "stdout",
     "output_type": "stream",
     "text": [
      "C shape (1, 1)\n",
      "corr_coeffs shape:  (1, 1)\n",
      "[[-0.03416585]]\n"
     ]
    },
    {
     "name": "stderr",
     "output_type": "stream",
     "text": [
      "100%|██████████| 256/256 [00:03<00:00, 66.07it/s]\n",
      " 44%|████▍     | 7/16 [00:27<00:35,  3.92s/it]\n"
     ]
    },
    {
     "name": "stdout",
     "output_type": "stream",
     "text": [
      "C shape (1, 1)\n",
      "corr_coeffs shape:  (1, 1)\n",
      "[[-0.01573433]]\n"
     ]
    },
    {
     "name": "stderr",
     "output_type": "stream",
     "text": [
      "100%|██████████| 256/256 [00:03<00:00, 65.31it/s]\n",
      " 50%|█████     | 8/16 [00:31<00:31,  3.92s/it]\n",
      "  6%|▌         | 15/256 [00:00<00:03, 68.79it/s]"
     ]
    },
    {
     "name": "stdout",
     "output_type": "stream",
     "text": [
      "C shape (1, 1)\n",
      "corr_coeffs shape:  (1, 1)\n",
      "[[-0.01121547]]\n"
     ]
    },
    {
     "name": "stderr",
     "output_type": "stream",
     "text": [
      "100%|██████████| 256/256 [00:03<00:00, 67.56it/s]\n",
      " 56%|█████▋    | 9/16 [00:35<00:27,  3.88s/it]"
     ]
    },
    {
     "name": "stdout",
     "output_type": "stream",
     "text": [
      "C shape (1, 1)\n",
      "corr_coeffs shape:  (1, 1)\n",
      "[[-0.04324915]]\n"
     ]
    },
    {
     "name": "stderr",
     "output_type": "stream",
     "text": [
      "100%|██████████| 256/256 [00:03<00:00, 65.64it/s]\n",
      " 62%|██████▎   | 10/16 [00:39<00:23,  3.89s/it]\n"
     ]
    },
    {
     "name": "stdout",
     "output_type": "stream",
     "text": [
      "C shape (1, 1)\n",
      "corr_coeffs shape:  (1, 1)\n",
      "[[-0.01005574]]\n"
     ]
    },
    {
     "name": "stderr",
     "output_type": "stream",
     "text": [
      "100%|██████████| 256/256 [00:03<00:00, 67.21it/s]\n",
      " 69%|██████▉   | 11/16 [00:42<00:19,  3.87s/it]"
     ]
    },
    {
     "name": "stdout",
     "output_type": "stream",
     "text": [
      "C shape (1, 1)\n",
      "corr_coeffs shape:  (1, 1)\n",
      "[[-0.01727853]]\n"
     ]
    },
    {
     "name": "stderr",
     "output_type": "stream",
     "text": [
      "100%|██████████| 256/256 [00:03<00:00, 67.68it/s]\n",
      " 75%|███████▌  | 12/16 [00:46<00:15,  3.84s/it]"
     ]
    },
    {
     "name": "stdout",
     "output_type": "stream",
     "text": [
      "C shape (1, 1)\n",
      "corr_coeffs shape:  (1, 1)\n",
      "[[0.00719024]]\n"
     ]
    },
    {
     "name": "stderr",
     "output_type": "stream",
     "text": [
      "100%|██████████| 256/256 [00:03<00:00, 67.27it/s]\n",
      " 81%|████████▏ | 13/16 [00:50<00:11,  3.83s/it]"
     ]
    },
    {
     "name": "stdout",
     "output_type": "stream",
     "text": [
      "C shape (1, 1)\n",
      "corr_coeffs shape:  (1, 1)\n",
      "[[-0.01419112]]\n"
     ]
    },
    {
     "name": "stderr",
     "output_type": "stream",
     "text": [
      "100%|██████████| 256/256 [00:03<00:00, 66.35it/s]\n",
      " 88%|████████▊ | 14/16 [00:54<00:07,  3.84s/it]"
     ]
    },
    {
     "name": "stdout",
     "output_type": "stream",
     "text": [
      "C shape (1, 1)\n",
      "corr_coeffs shape:  (1, 1)\n",
      "[[-0.00603236]]\n"
     ]
    },
    {
     "name": "stderr",
     "output_type": "stream",
     "text": [
      "100%|██████████| 256/256 [00:03<00:00, 66.36it/s]\n",
      " 94%|█████████▍| 15/16 [00:58<00:03,  3.85s/it]"
     ]
    },
    {
     "name": "stdout",
     "output_type": "stream",
     "text": [
      "C shape (1, 1)\n",
      "corr_coeffs shape:  (1, 1)\n",
      "[[-0.01371287]]\n"
     ]
    },
    {
     "name": "stderr",
     "output_type": "stream",
     "text": [
      "100%|██████████| 256/256 [00:03<00:00, 69.78it/s]\n",
      "100%|██████████| 16/16 [01:01<00:00,  3.87s/it]\n"
     ]
    }
   ],
   "source": [
    "# RUN CPA ATTACk\n",
    "\n",
    "#hws_4all_bytes = []\n",
    "corr_coeffs_4all_bytes = [[0]*NO_KEYS] * 16\n",
    "\n",
    "def run_cpa_attack():\n",
    "    for byte_num in trange(0,16):\n",
    "        #hws_4all_keys = []\n",
    "        corr_coeffs_4all_keys = [0] * NO_KEYS\n",
    "\n",
    "        for kguess in trange(0, NO_KEYS):\n",
    "            #hws_per_key = [] \n",
    "\n",
    "            hws = [0] * NO_PWR_TRC\n",
    "            corr_coeffs = [0] * NO_POINT_PER_TRACE\n",
    "            xor_byte_pos = CT_2_PREVCT_MAPPING[byte_num]\n",
    "\n",
    "            for trc_row in range(NO_PWR_TRC):\n",
    "                op1 = inverse_lookup(kguess, cipher_texts[trc_row, byte_num]) \n",
    "                op2 = cipher_texts[trc_row, xor_byte_pos] \n",
    "                hws[trc_row] = abs(HW[op1] - HW[op2])\n",
    "\n",
    "            hws_bar = mean(hws)\n",
    "            std_hws = sdev(hws,hws_bar)\n",
    "            \n",
    "            # Prepare Hamming Weights and Power Trace for Calculations\n",
    "            A = np.subtract(hws,hws_bar).reshape((-1,1)) \n",
    "            B = np.subtract(power_trace, mean_power_trace) \n",
    "            \n",
    "            # Covariance Calculation\n",
    "            C = np.matmul(B.transpose(), A) \n",
    "\n",
    "            # Correlation Coefficient Calculation\n",
    "            corr_coeffs = np.divide(C, np.multiply(sdev_power_trace, std_hws)) \n",
    "            corr_coeffs_4all_keys[kguess] = np.amax(corr_coeffs)\n",
    "\n",
    "            # for trc_col in range(0, NO_POINT_PER_TRACE):\n",
    "            #     power_trace_col  = power_trace[:,trc_col]\n",
    "            #     num              = cov(hws,hws_bar,power_trace_col,mean_power_trace[trc_col])\n",
    "            #     den              = sdev_power_trace[trc_col] * std_hws\n",
    "\n",
    "            #     if (den != 0): \n",
    "            #         corr_coeff  = num / den\n",
    "            #     else:\n",
    "            #         corr_coeff = 0\n",
    "\n",
    "            #     corr_coeffs[trc_col] = corr_coeff\n",
    "            #     #hws_per_key.append(hws) \n",
    "\n",
    "            #hws_4all_keys.append(hws_per_key)\n",
    "            #corr_coeffs_4all_keys[kguess] = max(corr_coeffs)\n",
    "        \n",
    "        #hws_4all_bytes.append(hws_4all_keys)\n",
    "        corr_coeffs_4all_bytes[byte_num] = corr_coeffs_4all_keys\n",
    "\n",
    "\n",
    "run_cpa_attack()"
   ]
  },
  {
   "cell_type": "code",
   "execution_count": 126,
   "metadata": {},
   "outputs": [
    {
     "name": "stdout",
     "output_type": "stream",
     "text": [
      "0xb4\n",
      "0xef\n",
      "0xe5\n",
      "0xcb\n",
      "0x26\n",
      "0x92\n",
      "0x38\n",
      "0xf6\n",
      "0x23\n",
      "0xe9\n",
      "0x7f\n",
      "0xcf\n",
      "0x6f\n",
      "0x8f\n",
      "0x18\n",
      "0x8e\n"
     ]
    }
   ],
   "source": [
    "\n",
    "corr_coeffs_4all_bytes = np.array(corr_coeffs_4all_bytes)\n",
    "\n",
    "for byte_no in range(0,16):\n",
    "    result = np.where(corr_coeffs_4all_bytes[byte_no] == np.amax(corr_coeffs_4all_bytes[byte_no]))\n",
    "    print(hex(result[0][0]))\n",
    "    \n"
   ]
  },
  {
   "cell_type": "code",
   "execution_count": 120,
   "metadata": {},
   "outputs": [
    {
     "name": "stdout",
     "output_type": "stream",
     "text": [
      "[[1 2 3]\n",
      " [4 5 6]\n",
      " [7 8 9]]\n",
      "[[1]\n",
      " [2]\n",
      " [3]]\n",
      "[[30]\n",
      " [36]\n",
      " [42]]\n"
     ]
    }
   ],
   "source": [
    "#%%timeit\n",
    "A = np.arange(1,10).reshape((3,3))\n",
    "B = np.arange(1,4).reshape((-1,1)) \n",
    "print(A)\n",
    "print(B)\n",
    "\n",
    "C = np.matmul(A.transpose(),B) \n",
    "print(C)\n"
   ]
  },
  {
   "cell_type": "code",
   "execution_count": 134,
   "metadata": {},
   "outputs": [
    {
     "name": "stdout",
     "output_type": "stream",
     "text": [
      "(3,)\n",
      "(3,)\n",
      "(3,)\n"
     ]
    }
   ],
   "source": [
    "B = np.arange(1,4)\n",
    "F = np.arange(1,4)\n",
    "G = np.divide(B,F)\n",
    "\n",
    "print(B.shape)\n",
    "print(F.shape)\n",
    "print(G.shape)"
   ]
  },
  {
   "cell_type": "code",
   "execution_count": 1,
   "metadata": {},
   "outputs": [
    {
     "name": "stdout",
     "output_type": "stream",
     "text": [
      "cipher[ 0 ][ 0 ] -> ciphertext[0][ 0 ]\n",
      "cipher[ 1 ][ 0 ] -> ciphertext[0][ 1 ]\n",
      "cipher[ 2 ][ 0 ] -> ciphertext[0][ 2 ]\n",
      "cipher[ 3 ][ 0 ] -> ciphertext[0][ 3 ]\n",
      "cipher[ 0 ][ 1 ] -> ciphertext[0][ 4 ]\n",
      "cipher[ 1 ][ 1 ] -> ciphertext[0][ 5 ]\n",
      "cipher[ 2 ][ 1 ] -> ciphertext[0][ 6 ]\n",
      "cipher[ 3 ][ 1 ] -> ciphertext[0][ 7 ]\n",
      "cipher[ 0 ][ 2 ] -> ciphertext[0][ 8 ]\n",
      "cipher[ 1 ][ 2 ] -> ciphertext[0][ 9 ]\n",
      "cipher[ 2 ][ 2 ] -> ciphertext[0][ 10 ]\n",
      "cipher[ 3 ][ 2 ] -> ciphertext[0][ 11 ]\n",
      "cipher[ 0 ][ 3 ] -> ciphertext[0][ 12 ]\n",
      "cipher[ 1 ][ 3 ] -> ciphertext[0][ 13 ]\n",
      "cipher[ 2 ][ 3 ] -> ciphertext[0][ 14 ]\n",
      "cipher[ 3 ][ 3 ] -> ciphertext[0][ 15 ]\n"
     ]
    }
   ],
   "source": [
    "\n",
    "\n",
    "for j in range(4):\n",
    "    for k in range(4):\n",
    "        print(\"cipher[\",k,'][',j,']','-> ciphertext[0][',(j*4+k),']' ) "
   ]
  },
  {
   "cell_type": "code",
   "execution_count": 5,
   "metadata": {},
   "outputs": [
    {
     "name": "stdout",
     "output_type": "stream",
     "text": [
      "key[ 0 ]   -> ct[ 0 ][ 0 ]   ->ct_BP[ 0 ][ 0 ]\n",
      "key[ 4 ]   -> ct[ 0 ][ 1 ]   ->ct_BP[ 0 ][ 1 ]\n",
      "key[ 8 ]   -> ct[ 0 ][ 2 ]   ->ct_BP[ 0 ][ 2 ]\n",
      "key[ 12 ]   -> ct[ 0 ][ 3 ]   ->ct_BP[ 0 ][ 3 ]\n",
      "key[ 13 ]   -> ct[ 1 ][ 0 ]   ->ct_BP[ 1 ][ 3 ]\n",
      "key[ 1 ]   -> ct[ 1 ][ 1 ]   ->ct_BP[ 1 ][ 0 ]\n",
      "key[ 5 ]   -> ct[ 1 ][ 2 ]   ->ct_BP[ 1 ][ 1 ]\n",
      "key[ 9 ]   -> ct[ 1 ][ 3 ]   ->ct_BP[ 1 ][ 2 ]\n",
      "key[ 10 ]   -> ct[ 2 ][ 0 ]   ->ct_BP[ 2 ][ 2 ]\n",
      "key[ 14 ]   -> ct[ 2 ][ 1 ]   ->ct_BP[ 2 ][ 3 ]\n",
      "key[ 2 ]   -> ct[ 2 ][ 2 ]   ->ct_BP[ 2 ][ 0 ]\n",
      "key[ 6 ]   -> ct[ 2 ][ 3 ]   ->ct_BP[ 2 ][ 1 ]\n",
      "key[ 7 ]   -> ct[ 3 ][ 0 ]   ->ct_BP[ 3 ][ 1 ]\n",
      "key[ 11 ]   -> ct[ 3 ][ 1 ]   ->ct_BP[ 3 ][ 2 ]\n",
      "key[ 15 ]   -> ct[ 3 ][ 2 ]   ->ct_BP[ 3 ][ 3 ]\n",
      "key[ 3 ]   -> ct[ 3 ][ 3 ]   ->ct_BP[ 3 ][ 0 ]\n"
     ]
    }
   ],
   "source": [
    "\n",
    "\n",
    "for j in range(16):\n",
    "\tpost_row = j // 4\n",
    "\tpost_col = j % 4\n",
    "\n",
    "\tpre_row = post_row\n",
    "\tpre_col = post_col - post_row\n",
    "\n",
    "\tif (pre_col < 0):\n",
    "\t\tpre_col += 4\n",
    "    \n",
    "\tbyte_id = pre_col * 4 + pre_row\n",
    "\n",
    "\tprint('key[',byte_id,']',\"  -> ct[\",post_row,'][',post_col,']',\"  ->ct_BP[\",pre_row,'][',pre_col,']' ) \n",
    "\n",
    "    "
   ]
  },
  {
   "cell_type": "code",
   "execution_count": 6,
   "metadata": {},
   "outputs": [
    {
     "name": "stdout",
     "output_type": "stream",
     "text": [
      "1\n",
      "2\n",
      "1\n",
      "3\n",
      "1\n",
      "2\n",
      "1\n",
      "4\n",
      "1\n",
      "2\n"
     ]
    }
   ],
   "source": [
    "HW = [bin(k).count(\"1\") for k in np.arange(0,256)]\n",
    "\n",
    "for i in range(10):\n",
    "    print(HW[i ^ i+1])"
   ]
  }
 ],
 "metadata": {
  "interpreter": {
   "hash": "a3be8f888a27f1095766d91def0bc8d752324ed8882a4909004dd0f6fafbe06d"
  },
  "kernelspec": {
   "display_name": "Python 3.8.8 ('base')",
   "language": "python",
   "name": "python3"
  },
  "language_info": {
   "codemirror_mode": {
    "name": "ipython",
    "version": 3
   },
   "file_extension": ".py",
   "mimetype": "text/x-python",
   "name": "python",
   "nbconvert_exporter": "python",
   "pygments_lexer": "ipython3",
   "version": "3.8.8"
  },
  "orig_nbformat": 4
 },
 "nbformat": 4,
 "nbformat_minor": 2
}
